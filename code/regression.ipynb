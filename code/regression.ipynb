{
  "nbformat": 4,
  "nbformat_minor": 0,
  "metadata": {
    "colab": {
      "provenance": [],
      "gpuType": "T4"
    },
    "kernelspec": {
      "name": "python3",
      "display_name": "Python 3"
    },
    "language_info": {
      "name": "python"
    },
    "accelerator": "GPU"
  },
  "cells": [
    {
      "cell_type": "markdown",
      "source": [
        "# IMPORTS"
      ],
      "metadata": {
        "id": "UmfkJyPPI2rb"
      }
    },
    {
      "cell_type": "code",
      "execution_count": 67,
      "metadata": {
        "id": "r4TPRI99CZ-F"
      },
      "outputs": [],
      "source": [
        "import torch\n",
        "from torch import nn\n",
        "from numpy import genfromtxt\n",
        "from torch.utils.data import DataLoader\n",
        "from torch.optim import Adam\n",
        "from torch.nn.modules.activation import Softplus\n",
        "import pandas as pd\n",
        "from sklearn import train_test_split"
      ]
    },
    {
      "cell_type": "code",
      "source": [
        "from google.colab import drive\n",
        "drive.mount('/content/drive')"
      ],
      "metadata": {
        "colab": {
          "base_uri": "https://localhost:8080/"
        },
        "id": "TAxo-YIUHn0a",
        "outputId": "89676055-158f-4bb2-b847-42eebeabe111"
      },
      "execution_count": 63,
      "outputs": [
        {
          "output_type": "stream",
          "name": "stdout",
          "text": [
            "Drive already mounted at /content/drive; to attempt to forcibly remount, call drive.mount(\"/content/drive\", force_remount=True).\n"
          ]
        }
      ]
    },
    {
      "cell_type": "markdown",
      "source": [
        "# HYPERPARAMETERS"
      ],
      "metadata": {
        "id": "H9wD9WgfCMNG"
      }
    },
    {
      "cell_type": "code",
      "source": [
        "device = torch.device('cuda' if torch.cuda.is_available() else 'cpu')\n",
        "\n",
        "input_size = 1\n",
        "hidden_size = 500\n",
        "num_epochs = 10\n",
        "batch_size = 32\n",
        "learning_rate = 0.001"
      ],
      "metadata": {
        "id": "tEc4wRBnCPuj"
      },
      "execution_count": 64,
      "outputs": []
    },
    {
      "cell_type": "markdown",
      "source": [
        "# GET DATA"
      ],
      "metadata": {
        "id": "CIt1_lg8IrXq"
      }
    },
    {
      "cell_type": "code",
      "source": [
        "colnames = ['q', 'q_dot', 'label']\n",
        "# dataset = genfromtxt('/content/drive/MyDrive/Robotics_2/1R_rigid_vertical/dataset.txt')\n",
        "dataset = pd.read_csv('/content/drive/MyDrive/Robotics_2/1R_rigid_vertical/dataset.csv', names=colnames)"
      ],
      "metadata": {
        "id": "fjJD5gyJC1ns"
      },
      "execution_count": 77,
      "outputs": []
    },
    {
      "cell_type": "markdown",
      "source": [
        "## divide the dataset into the  train and test"
      ],
      "metadata": {
        "id": "tyxzF5AMCpEV"
      }
    },
    {
      "cell_type": "code",
      "source": [
        "from torch.utils.data.dataset import TensorDataset\n",
        "# test_dataset = dataset[0:len(dataset)//3]\n",
        "# train_dataset = dataset[len(dataset)//3:len(dataset)]\n",
        "\n",
        "# train_loader = DataLoader(dataset=train_dataset, batch_size=batch_size)\n",
        "# test_loader = DataLoader(dataset=test_dataset, batch_size=batch_size)\n",
        "\n",
        "X_all = dataset.drop('label', axis=1).copy()\n",
        "y_all = dataset['label'].copy()\n",
        "\n",
        "X_train, X_test, y_train, y_test = train_test_split(X_all, y_all, test_size=0.25)\n",
        "\n",
        "# X_train = torch.Tensor(X_train).float().to(device)\n",
        "# y_train = torch.Tensor(y_train).float().to(device)\n",
        "# X_test = torch.Tensor(X_test).float().to(device)\n",
        "# y_test = torch.Tensor(y_test).float().to(device)\n",
        "\n",
        "dataloader_train = DataLoader((X_train, y_train), batch_size=batch_size)\n",
        "dataloader_test = DataLoader((X_test, y_test), batch_size=batch_size)"
      ],
      "metadata": {
        "id": "d7KxNhb-Cts2"
      },
      "execution_count": 123,
      "outputs": []
    },
    {
      "cell_type": "markdown",
      "source": [
        "## see the dataset lengths"
      ],
      "metadata": {
        "id": "CiGZ0_QBhQ5V"
      }
    },
    {
      "cell_type": "code",
      "source": [
        "# print(len(dataset))\n",
        "# print(len(train_dataset))\n",
        "# print(len(test_dataset))\n",
        "# print(len(train_loader))\n",
        "# print(len(test_loader))\n",
        "# # print(list(train_loader))\n",
        "\n",
        "# print(dataset)\n",
        "# print(X_all)\n",
        "# print(y_all)"
      ],
      "metadata": {
        "colab": {
          "base_uri": "https://localhost:8080/"
        },
        "id": "n9EI_71eI-4H",
        "outputId": "63dc6303-5fba-4d93-9266-31265ce22b05"
      },
      "execution_count": 82,
      "outputs": [
        {
          "output_type": "stream",
          "name": "stdout",
          "text": [
            "0          label\n",
            "1        -2.2557\n",
            "2        -6.2667\n",
            "3         5.6835\n",
            "4         5.5323\n",
            "          ...   \n",
            "49996     5.8255\n",
            "49997    -5.7833\n",
            "49998     5.0609\n",
            "49999    -6.5111\n",
            "50000     6.4514\n",
            "Name: label, Length: 50001, dtype: object\n"
          ]
        }
      ]
    },
    {
      "cell_type": "markdown",
      "source": [
        "# LNN"
      ],
      "metadata": {
        "id": "pW-Q1u8MiVHe"
      }
    },
    {
      "cell_type": "code",
      "source": [
        "class LNN(nn.Module):\n",
        "  def __init__(self, input_size, hidden_size):\n",
        "    super().__init__()\n",
        "    self.model = nn.Sequential(\n",
        "        nn.Linear(input_size, hidden_size),\n",
        "        nn.Softplus(),\n",
        "        nn.Linear(input_size, hidden_size),\n",
        "        nn.Softplus(),\n",
        "        nn.Linear(input_size, hidden_size),\n",
        "        nn.Softplus(),\n",
        "        nn.Linear(hidden_size, 1)\n",
        "    )\n",
        "\n",
        "  def forward(self, x):\n",
        "    return self.model(x)"
      ],
      "metadata": {
        "id": "DziBP4AoiYSb"
      },
      "execution_count": 37,
      "outputs": []
    },
    {
      "cell_type": "markdown",
      "source": [
        "## instance of the NN and optimizer"
      ],
      "metadata": {
        "id": "Wi63t_nJl5-U"
      }
    },
    {
      "cell_type": "code",
      "source": [
        "lnn = LNN(input_size, hidden_size).to(device)\n",
        "opt = Adam(lnn.parameters(), lr=learning_rate)\n",
        "loss_fn = torch.nn.MSELoss()"
      ],
      "metadata": {
        "id": "LvCc28iAmAMR"
      },
      "execution_count": 48,
      "outputs": []
    },
    {
      "cell_type": "markdown",
      "source": [
        "# TRAIN"
      ],
      "metadata": {
        "id": "vuou1ZDeFE7w"
      }
    },
    {
      "cell_type": "code",
      "source": [
        "# n_total_steps = len(dataloader_train)\n",
        "# for epoch in range(num_epochs):\n",
        "#   for i, (q, q_dot, labels) in enumerate(dataloader_train):\n",
        "#     labels = labels.to(device)\n",
        "#     outputs = lnn(q, q_dot)\n",
        "#     loss = loss_fn(outputs, labels)\n",
        "\n",
        "#     loss.backward()\n",
        "#     opt.step()\n",
        "#     opt.zero_grad()\n",
        "lnn.train()"
      ],
      "metadata": {
        "colab": {
          "base_uri": "https://localhost:8080/"
        },
        "id": "NjMSxhU3kSjh",
        "outputId": "881486b0-9ba4-4402-9a5c-b9454d7880f5"
      },
      "execution_count": 125,
      "outputs": [
        {
          "output_type": "execute_result",
          "data": {
            "text/plain": [
              "LNN(\n",
              "  (model): Sequential(\n",
              "    (0): Linear(in_features=1, out_features=500, bias=True)\n",
              "    (1): Softplus(beta=1, threshold=20)\n",
              "    (2): Linear(in_features=1, out_features=500, bias=True)\n",
              "    (3): Softplus(beta=1, threshold=20)\n",
              "    (4): Linear(in_features=1, out_features=500, bias=True)\n",
              "    (5): Softplus(beta=1, threshold=20)\n",
              "    (6): Linear(in_features=500, out_features=1, bias=True)\n",
              "  )\n",
              ")"
            ]
          },
          "metadata": {},
          "execution_count": 125
        }
      ]
    }
  ]
}