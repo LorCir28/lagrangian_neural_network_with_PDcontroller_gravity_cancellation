{
  "nbformat": 4,
  "nbformat_minor": 0,
  "metadata": {
    "colab": {
      "provenance": [],
      "collapsed_sections": [
        "3f5Fz_zlJncy",
        "q3mD_3PIJz32",
        "ESxl0CvZKQAf",
        "cgj2FiDIKgEf",
        "qslSslHlK2y1",
        "rqvqkDm_LHDf",
        "IcUZxD0iLjA0",
        "z7TaH8l9LuXd"
      ],
      "gpuType": "T4"
    },
    "kernelspec": {
      "name": "python3",
      "display_name": "Python 3"
    },
    "language_info": {
      "name": "python"
    },
    "accelerator": "GPU"
  },
  "cells": [
    {
      "cell_type": "markdown",
      "source": [
        "# Global"
      ],
      "metadata": {
        "id": "3f5Fz_zlJncy"
      }
    },
    {
      "cell_type": "code",
      "source": [
        "try:\n",
        "    from google.colab import drive\n",
        "    drive.mount('/content/drive')\n",
        "    root_path = \"/content/drive/MyDrive/Robotics_2/\"\n",
        "except:\n",
        "    root_path = \"./\""
      ],
      "metadata": {
        "colab": {
          "base_uri": "https://localhost:8080/"
        },
        "id": "W6t3sS6wJpBn",
        "outputId": "4c0cbb95-2b6e-4db6-f772-f9681bf32404"
      },
      "execution_count": 24,
      "outputs": [
        {
          "output_type": "stream",
          "name": "stdout",
          "text": [
            "Drive already mounted at /content/drive; to attempt to forcibly remount, call drive.mount(\"/content/drive\", force_remount=True).\n"
          ]
        }
      ]
    },
    {
      "cell_type": "code",
      "source": [
        "class ObjectView(object):\n",
        "    def __init__(self, d): self.__dict__ = d\n",
        "\n",
        "args = ObjectView({'dataset_size': 200,\n",
        " 'fps': 10,\n",
        " 'samples': 100,\n",
        " 'num_epochs': 1000,\n",
        " 'seed': 0,\n",
        " 'loss': 'baseline_nn',\n",
        " 'act': 'relu_relu',\n",
        " 'hidden_dim': 600,\n",
        " 'output_dim': 2,\n",
        " 'layers': 3,\n",
        " 'n_updates': 1,\n",
        " 'lr': 4e-5,\n",
        " 'lr2': 2e-05,\n",
        " 'dt': 0.1,\n",
        " 'model': 'gln',\n",
        " 'batch_size': 512,\n",
        " 'l2reg': 5.7e-07,\n",
        "})"
      ],
      "metadata": {
        "id": "igeXwDJrJqxg"
      },
      "execution_count": 25,
      "outputs": []
    },
    {
      "cell_type": "markdown",
      "source": [
        "# Import"
      ],
      "metadata": {
        "id": "q3mD_3PIJz32"
      }
    },
    {
      "cell_type": "code",
      "source": [
        "import jax\n",
        "import jax.numpy as jnp\n",
        "import numpy as np # get rid of this eventually\n",
        "import argparse\n",
        "from jax import jit\n",
        "from jax.experimental.ode import odeint\n",
        "from functools import partial # reduces arguments to function by making some subset implicit\n",
        "\n",
        "from jax.example_libraries import stax\n",
        "from jax.example_libraries import optimizers\n",
        "\n",
        "import os, sys, time\n",
        "from itertools import product\n",
        "from jax.example_libraries.stax import serial, Dense, Softplus, Tanh, elementwise, Relu\n",
        "import pickle as pkl\n",
        "import matplotlib.pyplot as plt\n",
        "from jax.tree_util import tree_flatten\n",
        "from copy import deepcopy as copy\n",
        "\n",
        "from jax.tree_util import tree_flatten\n",
        "from tqdm.notebook import tqdm\n",
        "import math"
      ],
      "metadata": {
        "id": "cKdeVUfwJ1Hf"
      },
      "execution_count": 26,
      "outputs": []
    },
    {
      "cell_type": "markdown",
      "source": [
        "# Utils"
      ],
      "metadata": {
        "id": "ESxl0CvZKQAf"
      }
    },
    {
      "cell_type": "code",
      "source": [
        "def wrap_coords(state):\n",
        "  # wrap generalized coordinates to [-pi, pi]\n",
        "  return jnp.concatenate([(state[:2] + jnp.pi) % (2 * jnp.pi) - jnp.pi, state[2:]])\n",
        "\n",
        "def rk4_step(f, x, t, h):\n",
        "  # one step of Runge-Kutta integration\n",
        "  k1 = h * f(x, t)\n",
        "  k2 = h * f(x + k1/2, t + h/2)\n",
        "  k3 = h * f(x + k2/2, t + h/2)\n",
        "  k4 = h * f(x + k3, t + h)\n",
        "  return x + 1/6 * (k1 + 2 * k2 + 2 * k3 + k4)\n",
        "\n",
        "def radial2cartesian(t1, t2, l1, l2):\n",
        "  # Convert from radial to Cartesian coordinates.\n",
        "  x1 = l1 * jnp.sin(t1)\n",
        "  y1 = -l1 * jnp.cos(t1)\n",
        "  x2 = x1 + l2 * jnp.sin(t2)\n",
        "  y2 = y1 - l2 * jnp.cos(t2)\n",
        "  return x1, y1, x2, y2\n",
        "\n",
        "def write_to(data, path):\n",
        "  with open(path, 'wb') as f:\n",
        "    pkl.dump(data, f, protocol=pkl.HIGHEST_PROTOCOL)\n",
        "\n",
        "def read_from(path):\n",
        "  with open(path, 'rb') as f:\n",
        "    data = pkl.load(f)\n",
        "  return data\n",
        "\n",
        "def plot_loss(train_losses, test_losses):\n",
        "  fig, ax = plt.subplots(1, 1)\n",
        "  plt.title(\"Elastic Baseline loss\")\n",
        "\n",
        "  ax.plot(train_losses, label='Train loss')\n",
        "  ax.plot(test_losses, label='Test loss')\n",
        "  ax.set_ylabel(\"Loss\")\n",
        "  ax.set_xlabel(\"Epochs\")\n",
        "  ax.legend()\n",
        "\n",
        "  fig.tight_layout()"
      ],
      "metadata": {
        "id": "eZAOJVxMKRHI"
      },
      "execution_count": 27,
      "outputs": []
    },
    {
      "cell_type": "markdown",
      "source": [
        "# Lagrangian Dynamics"
      ],
      "metadata": {
        "id": "cgj2FiDIKgEf"
      }
    },
    {
      "cell_type": "code",
      "source": [
        "def baseline_eom(baseline, state, t=None):\n",
        "    q, q_t = jnp.split(state, 2)\n",
        "    q = q % (2*jnp.pi)\n",
        "    q_tt = baseline(q, q_t)\n",
        "    return jnp.concatenate([q_t, q_tt])\n",
        "\n",
        "# unconstrained equation of motion\n",
        "def unconstrained_eom(model, state, t=None):\n",
        "  q, q_t = jnp.split(state, 2)\n",
        "  return model(q, q_t)\n",
        "\n",
        "# lagrangian equation of motion\n",
        "def lagrangian_eom(lagrangian, state, t=None):\n",
        "  q, q_t = jnp.split(state, 2)\n",
        "  #Note: the following line assumes q is an angle. Delete it for problems other than double pendulum.\n",
        "  q = q % (2*jnp.pi)\n",
        "  q_tt = (jnp.linalg.pinv(jax.hessian(lagrangian, 1)(q, q_t))\n",
        "          @ (jax.grad(lagrangian, 0)(q, q_t)\n",
        "             - jax.jacobian(jax.jacobian(lagrangian, 1), 0)(q, q_t) @ q_t))\n",
        "  dt = 1e-1\n",
        "  return dt*jnp.concatenate([q_t, q_tt])\n",
        "\n",
        "def raw_lagrangian_eom(lagrangian, state, t=None):\n",
        "  q, q_t = jnp.split(state, 2)\n",
        "  q = q % (2*jnp.pi)\n",
        "  q_tt = (jnp.linalg.pinv(jax.hessian(lagrangian, 1)(q, q_t))\n",
        "          @ (jax.grad(lagrangian, 0)(q, q_t)\n",
        "             - jax.jacobian(jax.jacobian(lagrangian, 1), 0)(q, q_t) @ q_t))\n",
        "  return jnp.concatenate([q_t, q_tt])\n",
        "\n",
        "def solve_dynamics(dynamics_fn, initial_state, is_lagrangian=True, **kwargs):\n",
        "  eom = lagrangian_eom if is_lagrangian else unconstrained_eom\n",
        "\n",
        "  # We currently run odeint on CPUs only, because its cost is dominated by\n",
        "  # control flow, which is slow on GPUs.\n",
        "  @partial(jax.jit, backend='cpu')\n",
        "  def f(initial_state):\n",
        "    return odeint(partial(eom, dynamics_fn), initial_state, **kwargs)\n",
        "  return f(initial_state)\n",
        "\n",
        "def custom_init(init_params, seed=0):\n",
        "  \"\"\"Do an optimized LNN initialization for a simple uniform-width MLP\"\"\"\n",
        "  new_params = []\n",
        "  rng = jax.random.PRNGKey(seed)\n",
        "  i = 0\n",
        "  number_layers = len([0 for l1 in init_params if len(l1) != 0])\n",
        "  for l1 in init_params:\n",
        "      if (len(l1)) == 0: new_params.append(()); continue\n",
        "      new_l1 = []\n",
        "      for l2 in l1:\n",
        "          if len(l2.shape) == 1:\n",
        "              #Zero init biases\n",
        "              new_l1.append(jnp.zeros_like(l2))\n",
        "          else:\n",
        "              n = max(l2.shape)\n",
        "              first = int(i == 0)\n",
        "              last = int(i == number_layers - 1)\n",
        "              mid = int((i != 0) * (i != number_layers - 1))\n",
        "              mid *= i\n",
        "\n",
        "              std = 1.0/np.sqrt(n)\n",
        "              std *= 2.2*first + 0.58*mid + n*last\n",
        "\n",
        "              if std == 0:\n",
        "                  raise NotImplementedError(\"Wrong dimensions for MLP\")\n",
        "\n",
        "              new_l1.append(jax.random.normal(rng, l2.shape)*std)\n",
        "              rng += 1\n",
        "              i += 1\n",
        "\n",
        "      new_params.append(new_l1)\n",
        "\n",
        "  return new_params"
      ],
      "metadata": {
        "id": "tygMRnjJKhwP"
      },
      "execution_count": 28,
      "outputs": []
    },
    {
      "cell_type": "markdown",
      "source": [
        "# Physics"
      ],
      "metadata": {
        "id": "qslSslHlK2y1"
      }
    },
    {
      "cell_type": "code",
      "source": [
        "@jit\n",
        "def test_kinetic_energy(state, m1=1, m2=1, l1=1, l2=1, g=9.8, I=1, d1=1, Im=1):\n",
        "  q, q_dot = jnp.split(state,2)\n",
        "  (t1, t2), (w1, w2) = q, q_dot\n",
        "\n",
        "  T1 = 0.5 * (I+m1*(d1**2)) * (w1**2)\n",
        "  T2 = 0.5 * Im * (w2**2)\n",
        "  T = T1 + T2\n",
        "  return T\n",
        "\n",
        "@jit\n",
        "def test_potential_energy(state, m1=1, m2=1, l1=1, l2=1, g=9.8,d1=1,k=1):\n",
        "  q, q_dot = jnp.split(state,2)\n",
        "  (t1, t2), (w1, w2) = q, q_dot\n",
        "\n",
        "  Ug = m1*g*d1*jnp.sin(t1)\n",
        "  Ue = 0.5*k*((t1-t2)**2)\n",
        "  V = Ug+Ue\n",
        "  return V\n",
        "@jit\n",
        "def kinetic_energy(q, q_dot, m1=1, m2=1, l1=1, l2=1, g=9.8, I=1, d1=1, Im=1):\n",
        "  (t1, t2), (w1, w2) = q, q_dot\n",
        "\n",
        "  T1 = 0.5 * (I+m1*(d1**2)) * (w1**2)\n",
        "  T2 = 0.5 * Im * (w2**2)\n",
        "  T = T1 + T2\n",
        "  return T\n",
        "\n",
        "@jit\n",
        "def potential_energy(q, q_dot, m1=1, m2=1, l1=1, l2=1, g=9.8,d1=1,k=1):\n",
        "  (t1, t2), (w1, w2) = q, q_dot\n",
        "\n",
        "  Ug = m1*g*d1*jnp.sin(t1)\n",
        "  Ue = 0.5*k*((t1-t2)**2)\n",
        "  V = Ug+Ue\n",
        "  return V\n",
        "\n",
        "# Double pendulum lagrangian\n",
        "@jit\n",
        "def lagrangian_fn(q, q_dot, m1=1, m2=1, l1=1, l2=1, g=9.8):\n",
        "  (t1, t2), (w1, w2) = q, q_dot\n",
        "\n",
        "  T = kinetic_energy(q, q_dot, m1=1, m2=1, l1=1, l2=1, g=9.8)\n",
        "  V = potential_energy(q, q_dot, m1=1, m2=1, l1=1, l2=1, g=9.8)\n",
        "  return T - V\n",
        "\n",
        "# Double pendulum lagrangian\n",
        "@jit\n",
        "def hamiltonian_fn(q, q_dot, m1=1, m2=1, l1=0.3, l2=1, g=9.8):\n",
        "  (t1, t2), (w1, w2) = q, q_dot\n",
        "\n",
        "  T = kinetic_energy(q, q_dot, m1=1, m2=1, l1=1, l2=1, g=9.8)\n",
        "  V = potential_energy(q, q_dot, m1=1, m2=1, l1=1, l2=1, g=9.8)\n",
        "  return T + V\n",
        "\n",
        "# Double pendulum dynamics via analytical forces taken from Diego's blog\n",
        "@jit\n",
        "def analytical_fn(state, t=0, m1=1, m2=1, l1=1, l2=1, g=9.8,d1=1,I=1,Im=1,k=1):\n",
        "  t1, t2, w1, w2 = state\n",
        "  a1 = 0\n",
        "  a2 = 0\n",
        "  f1 = (-m1*g*d1*jnp.cos(t1)+k*(t1-t2))/(I+m1*(d1**2))\n",
        "  f2 = k*(t1-t2)/Im\n",
        "  g1 = f1\n",
        "  g2 = f2\n",
        "  return jnp.stack([w1, w2, g1, g2])"
      ],
      "metadata": {
        "id": "1rM-n0piK372"
      },
      "execution_count": 29,
      "outputs": []
    },
    {
      "cell_type": "markdown",
      "source": [
        "# Data"
      ],
      "metadata": {
        "id": "rqvqkDm_LHDf"
      }
    },
    {
      "cell_type": "code",
      "source": [
        "@partial(jax.jit, backend='cpu')\n",
        "def get_trajectory(y0, times, use_lagrangian=False, **kwargs):\n",
        "  # frames = int(fps*(t_span[1]-t_span[0]))\n",
        "  # times = jnp.linspace(t_span[0], t_span[1], frames)\n",
        "  # y0 = np.array([3*np.pi/7, 3*np.pi/4, 0, 0], dtype=np.float32)\n",
        "  if use_lagrangian:\n",
        "    y = solve_dynamics(lagrangian_fn, y0, t=times, is_lagrangian=True, rtol=1e-10, atol=1e-10, **kwargs)\n",
        "  else:\n",
        "    y = odeint(analytical_fn, y0, t=times, rtol=1e-10, atol=1e-10, **kwargs)\n",
        "  return y\n",
        "\n",
        "@partial(jax.jit, backend='cpu')\n",
        "def get_trajectory_lagrangian(y0, times, **kwargs):\n",
        "  return solve_dynamics(lagrangian_fn, y0, t=times, is_lagrangian=True, rtol=1e-10, atol=1e-10, **kwargs)\n",
        "\n",
        "@partial(jax.jit, backend='cpu')\n",
        "def get_trajectory_analytic(y0, times, **kwargs):\n",
        "    return odeint(analytical_fn, y0, t=times, rtol=1e-10, atol=1e-10, **kwargs)\n",
        "\n",
        "vfnc = jax.jit(jax.vmap(analytical_fn, 0, 0))\n",
        "vget = partial(jax.jit, backend='cpu')(jax.vmap(partial(get_trajectory_analytic, mxstep=100), (0, None), 0))\n",
        "vget_unlimited = partial(jax.jit, backend='cpu')(jax.vmap(partial(get_trajectory_analytic), (0, None), 0))\n",
        "venergy = partial(jax.jit, backend='cpu')(jax.vmap(partial(get_trajectory_lagrangian), (0, None), 0))\n",
        "def new_get_dataset(rng, samples=1, t_span=[0, 10], fps=100, test_split=0.5, lookahead=1,\n",
        "                    unlimited_steps=False,energy=False, **kwargs):\n",
        "    data = {'meta': locals()}\n",
        "\n",
        "    # randomly sample inputs\n",
        "\n",
        "    frames = int(fps*(t_span[1]-t_span[0]))\n",
        "    times = jnp.linspace(t_span[0], t_span[1], frames)\n",
        "    y0 = jnp.concatenate([\n",
        "        jax.random.uniform(rng, (samples, 2))*2.0*np.pi,\n",
        "        jax.random.uniform(rng+1, (samples, 2))*0.1\n",
        "    ], axis=1)\n",
        "\n",
        "    if unlimited_steps:\n",
        "        y = vget(y0, times)\n",
        "    else:\n",
        "      if energy:\n",
        "        y = venergy(y0,times)\n",
        "      else:\n",
        "        y = vget_unlimited(y0, times)\n",
        "\n",
        "\n",
        "    #This messes it up!\n",
        "#     y = np.concatenate(((y[..., :2]%(2*np.pi)) - np.pi, y[..., 2:]), axis=2)\n",
        "\n",
        "    data['x'] = y[:, :-lookahead]\n",
        "    data['dx'] = y[:, lookahead:] - data['x']\n",
        "    data['x'] = jnp.concatenate(data['x'])\n",
        "    data['dx'] = jnp.concatenate(data['dx'])\n",
        "    data['t'] = jnp.tile(times[:-lookahead], (samples,))\n",
        "\n",
        "    # make a train/test split\n",
        "    split_ix = int(len(data['x']) * test_split)\n",
        "    split_data = {}\n",
        "    for k in ['x', 'dx', 't']:\n",
        "        split_data[k], split_data['test_' + k] = data[k][:split_ix], data[k][split_ix:]\n",
        "    data = split_data\n",
        "    return data\n",
        "\n"
      ],
      "metadata": {
        "id": "YTJJI99ALH9m"
      },
      "execution_count": 30,
      "outputs": []
    },
    {
      "cell_type": "markdown",
      "source": [
        "# Models"
      ],
      "metadata": {
        "id": "IcUZxD0iLjA0"
      }
    },
    {
      "cell_type": "code",
      "source": [
        "# replace the lagrangian with a parameteric model\n",
        "def learned_dynamics(params):\n",
        "  @jit\n",
        "  def dynamics(q, q_t):\n",
        "#     assert q.shape == (2,)\n",
        "    state = wrap_coords(jnp.concatenate([q, q_t]))\n",
        "    return nn_forward_fn(params, state)\n",
        "  return dynamics\n",
        "\n",
        "def learned_dynamics_lnn(params):\n",
        "  @jit\n",
        "  def dynamics(q, q_t):\n",
        "#     assert q.shape == (2,)\n",
        "    state = wrap_coords(jnp.concatenate([q, q_t]))\n",
        "    return jnp.squeeze(nn_forward_fn_lnn(params, state), axis=-1)\n",
        "  return dynamics\n",
        "\n",
        "sigmoid = jit(lambda x: 1/(1+jnp.exp(-x)))\n",
        "swish = jit(lambda x: x/(1+jnp.exp(-x)))\n",
        "relu3 = jit(lambda x: jnp.clip(x, 0.0, float('inf'))**3)\n",
        "Swish = elementwise(swish)\n",
        "Relu3 = elementwise(relu3)\n",
        "\n",
        "def extended_mlp(args):\n",
        "    act = {\n",
        "        'softplus': [Softplus, Softplus],\n",
        "        'swish': [Swish, Swish],\n",
        "        'tanh': [Tanh, Tanh],\n",
        "        'tanh_relu': [Tanh, Relu],\n",
        "        'soft_relu': [Softplus, Relu],\n",
        "        'relu_relu': [Relu, Relu],\n",
        "        'relu_relu3': [Relu, Relu3],\n",
        "        'relu3_relu': [Relu3, Relu],\n",
        "        'relu_tanh': [Relu, Tanh],\n",
        "    }[args.act]\n",
        "    hidden = args.hidden_dim\n",
        "    output_dim = args.output_dim\n",
        "    nlayers = args.layers\n",
        "\n",
        "    layers = []\n",
        "    layers.extend([\n",
        "        Dense(hidden),\n",
        "        act[0]\n",
        "    ])\n",
        "    for _ in range(nlayers - 1):\n",
        "        layers.extend([\n",
        "            Dense(hidden),\n",
        "            act[1]\n",
        "        ])\n",
        "\n",
        "    layers.extend([Dense(output_dim)])\n",
        "\n",
        "    return stax.serial(*layers)"
      ],
      "metadata": {
        "id": "ozie5X3zLkPV"
      },
      "execution_count": 31,
      "outputs": []
    },
    {
      "cell_type": "markdown",
      "source": [
        "# Loss"
      ],
      "metadata": {
        "id": "z7TaH8l9LuXd"
      }
    },
    {
      "cell_type": "code",
      "source": [
        "@jax.jit\n",
        "def loss(params, batch, l2reg):\n",
        "    state, targets = batch#_rk4\n",
        "    leaves, _ = tree_flatten(params)\n",
        "    l2_norm = sum(jnp.vdot(param, param) for param in leaves)\n",
        "    preds = jax.vmap(\n",
        "        partial(\n",
        "            baseline_eom,\n",
        "            learned_dynamics(params)))(state)\n",
        "    return jnp.sum(jnp.abs(preds - targets)) + l2reg*l2_norm/args.batch_size"
      ],
      "metadata": {
        "id": "h_lIHkd7LvS0"
      },
      "execution_count": 32,
      "outputs": []
    },
    {
      "cell_type": "markdown",
      "source": [
        "# Train"
      ],
      "metadata": {
        "id": "DvhgNwEKL2cO"
      }
    },
    {
      "cell_type": "code",
      "source": [
        "def train(args):\n",
        "  global nn_forward_fn\n",
        "  model_checkpoint = root_path + \"1R_elastic_vertical/\" + args.loss + \"_elastic_params.pkl\"\n",
        "  # anchor = root_path + \"Elastic/Baseline/\" + args.loss + \"_train_backup.pkl\"\n",
        "  rng = jax.random.PRNGKey(args.seed)\n",
        "  minibatch_per = 200\n",
        "  batch = 512\n",
        "  best_params = None\n",
        "  best_loss = np.inf\n",
        "  test_best_loss = np.inf\n",
        "  init_random_params, nn_forward_fn = extended_mlp(args)\n",
        "  _, init_params = init_random_params(rng+1, (-1, 4))\n",
        "  rng += 1\n",
        "  model = (nn_forward_fn, init_params)\n",
        "  opt_init, opt_update, get_params = optimizers.adam(args.lr)\n",
        "  opt_state = opt_init([[l2/200.0 for l2 in l1] for l1 in init_params])\n",
        "  best_small_loss = np.inf\n",
        "  (nn_forward_fn, init_params) = model\n",
        "  iteration = 0\n",
        "  total_epochs = args.num_epochs\n",
        "  train_losses, test_losses = [], []\n",
        "  lr = 4e-5 #1e-3\n",
        "  final_div_factor=1e4\n",
        "\n",
        "\n",
        "  @jax.jit\n",
        "  def update_derivative(i, opt_state, batch, l2reg):\n",
        "      params = get_params(opt_state)\n",
        "      param_update = jax.grad(\n",
        "              lambda *args: loss(*args)/len(batch),\n",
        "              0\n",
        "          )(params, batch, l2reg)\n",
        "  #     param_update = normalize_param_update(param_update)\n",
        "      params = get_params(opt_state)\n",
        "      return opt_update(i, param_update, opt_state), params\n",
        "\n",
        "  #OneCycleLR:\n",
        "  @jax.jit\n",
        "  def OneCycleLR(pct):\n",
        "      #Rush it:\n",
        "      start = 0.2 #0.2\n",
        "      pct = pct * (1-start) + start\n",
        "      high, low = lr, lr/final_div_factor\n",
        "\n",
        "      scale = 1.0 - (jnp.cos(2 * jnp.pi * pct) + 1)/2\n",
        "\n",
        "      return low + (high - low)*scale\n",
        "\n",
        "  @jax.jit\n",
        "  def get_derivative_dataset(rng):\n",
        "    # randomly sample inputs\n",
        "\n",
        "    y0 = jnp.concatenate([\n",
        "        jax.random.uniform(rng, (batch*minibatch_per, 2))*2.0*np.pi,\n",
        "        (jax.random.uniform(rng+1, (batch*minibatch_per, 2))-0.5)*10*2\n",
        "    ], axis=1)\n",
        "\n",
        "    return y0, vfnc(y0)\n",
        "\n",
        "  # @jax.jit\n",
        "  # def test_get_derivative_dataset(rng):\n",
        "  #   # randomly sample inputs\n",
        "\n",
        "  #   y0 = jnp.concatenate([\n",
        "  #       jax.random.uniform(rng, (batch*(minibatch_per//10), 2))*2.0*np.pi,\n",
        "  #       (jax.random.uniform(rng+1, (batch*(minibatch_per//10), 2))-0.5)*10*2\n",
        "  #   ], axis=1)\n",
        "\n",
        "  #   return y0, vfnc(y0)\n",
        "\n",
        "  opt_init, opt_update, get_params = optimizers.adam(OneCycleLR)\n",
        "  opt_state = opt_init(init_params)\n",
        "  bad_iterations = 0\n",
        "  print(lr)\n",
        "\n",
        "  rng = jax.random.PRNGKey(0)\n",
        "  test_rng = jax.random.PRNGKey(0) + 123\n",
        "  epoch = 0\n",
        "  batch_data = get_derivative_dataset(rng)[0][:10], get_derivative_dataset(rng)[1][:10]\n",
        "  print(batch_data[0].shape)\n",
        "\n",
        "  loss(get_params(opt_state), batch_data, 0.0)\n",
        "  opt_state, params = update_derivative(0.0, opt_state, batch_data, 0.0)\n",
        "\n",
        "\n",
        "  for epoch in tqdm(range(epoch, total_epochs)):\n",
        "      epoch_loss = 0.0\n",
        "      test_loss = 0.0\n",
        "      num_samples = 0\n",
        "      test_num_samples = 0\n",
        "      all_batch_data = get_derivative_dataset(rng)\n",
        "      test_all_batch_data = get_derivative_dataset(test_rng+136462)\n",
        "\n",
        "      for minibatch in range(minibatch_per):\n",
        "          fraction = (epoch + minibatch/minibatch_per)/total_epochs\n",
        "\n",
        "          batch_data = (all_batch_data[0][minibatch*batch:(minibatch+1)*batch], all_batch_data[1][minibatch*batch:(minibatch+1)*batch])\n",
        "          test_batch_data = (test_all_batch_data[0][minibatch*batch:(minibatch+1)*batch], test_all_batch_data[1][minibatch*batch:(minibatch+1)*batch])\n",
        "\n",
        "          rng += 10\n",
        "          opt_state, params = update_derivative(fraction, opt_state, batch_data, 1e-6)\n",
        "\n",
        "          cur_loss = loss(params, batch_data, 0.0)\n",
        "          epoch_loss += cur_loss\n",
        "\n",
        "\n",
        "          test_cur_loss = loss(params,test_batch_data,0.0)\n",
        "          test_loss += test_cur_loss\n",
        "\n",
        "          num_samples += batch\n",
        "          test_num_samples += (batch-100)\n",
        "\n",
        "      closs = epoch_loss/num_samples\n",
        "      tloss = test_loss/test_num_samples\n",
        "      print('epoch={} lr={} loss={} test={}'.format(\n",
        "          epoch, OneCycleLR(fraction), closs, tloss)\n",
        "          )\n",
        "\n",
        "      if closs < best_loss:\n",
        "          best_loss = closs\n",
        "          best_params = [[copy(jax.device_get(l2)) for l2 in l1] if len(l1) > 0 else () for l1 in params]\n",
        "\n",
        "      if tloss < test_best_loss:\n",
        "          test_best_loss = tloss\n",
        "          best_params = [[copy(jax.device_get(l2)) for l2 in l1] if len(l1) > 0 else () for l1 in params]\n",
        "\n",
        "      train_losses.append(closs)\n",
        "      test_losses.append(tloss)\n",
        "\n",
        "  # write_to({'train' : train_losses, 'test' : test_losses},anchor)\n",
        "  write_to({'params': best_params, 'args': args},model_checkpoint)\n",
        "\n",
        "  return train_losses, test_losses, best_params\n",
        "\n",
        "result = train(args)\n",
        "plot_loss(result[0], result[1])"
      ],
      "metadata": {
        "colab": {
          "base_uri": "https://localhost:8080/",
          "height": 432
        },
        "id": "oTUr6E2cEHQB",
        "outputId": "b43b5917-367c-4cf8-d89f-c07c926169a3"
      },
      "execution_count": 33,
      "outputs": [
        {
          "output_type": "stream",
          "name": "stdout",
          "text": [
            "4e-05\n",
            "(10, 4)\n"
          ]
        },
        {
          "output_type": "error",
          "ename": "KeyboardInterrupt",
          "evalue": "ignored",
          "traceback": [
            "\u001b[0;31m---------------------------------------------------------------------------\u001b[0m",
            "\u001b[0;31mKeyboardInterrupt\u001b[0m                         Traceback (most recent call last)",
            "\u001b[0;32m<ipython-input-33-84d1f5089239>\u001b[0m in \u001b[0;36m<cell line: 135>\u001b[0;34m()\u001b[0m\n\u001b[1;32m    133\u001b[0m   \u001b[0;32mreturn\u001b[0m \u001b[0mtrain_losses\u001b[0m\u001b[0;34m,\u001b[0m \u001b[0mtest_losses\u001b[0m\u001b[0;34m,\u001b[0m \u001b[0mbest_params\u001b[0m\u001b[0;34m\u001b[0m\u001b[0;34m\u001b[0m\u001b[0m\n\u001b[1;32m    134\u001b[0m \u001b[0;34m\u001b[0m\u001b[0m\n\u001b[0;32m--> 135\u001b[0;31m \u001b[0mresult\u001b[0m \u001b[0;34m=\u001b[0m \u001b[0mtrain\u001b[0m\u001b[0;34m(\u001b[0m\u001b[0margs\u001b[0m\u001b[0;34m)\u001b[0m\u001b[0;34m\u001b[0m\u001b[0;34m\u001b[0m\u001b[0m\n\u001b[0m\u001b[1;32m    136\u001b[0m \u001b[0mplot_loss\u001b[0m\u001b[0;34m(\u001b[0m\u001b[0mresult\u001b[0m\u001b[0;34m[\u001b[0m\u001b[0;36m0\u001b[0m\u001b[0;34m]\u001b[0m\u001b[0;34m,\u001b[0m \u001b[0mresult\u001b[0m\u001b[0;34m[\u001b[0m\u001b[0;36m1\u001b[0m\u001b[0;34m]\u001b[0m\u001b[0;34m)\u001b[0m\u001b[0;34m\u001b[0m\u001b[0;34m\u001b[0m\u001b[0m\n",
            "\u001b[0;32m<ipython-input-33-84d1f5089239>\u001b[0m in \u001b[0;36mtrain\u001b[0;34m(args)\u001b[0m\n\u001b[1;32m     81\u001b[0m \u001b[0;34m\u001b[0m\u001b[0m\n\u001b[1;32m     82\u001b[0m   \u001b[0mloss\u001b[0m\u001b[0;34m(\u001b[0m\u001b[0mget_params\u001b[0m\u001b[0;34m(\u001b[0m\u001b[0mopt_state\u001b[0m\u001b[0;34m)\u001b[0m\u001b[0;34m,\u001b[0m \u001b[0mbatch_data\u001b[0m\u001b[0;34m,\u001b[0m \u001b[0;36m0.0\u001b[0m\u001b[0;34m)\u001b[0m\u001b[0;34m\u001b[0m\u001b[0;34m\u001b[0m\u001b[0m\n\u001b[0;32m---> 83\u001b[0;31m   \u001b[0mopt_state\u001b[0m\u001b[0;34m,\u001b[0m \u001b[0mparams\u001b[0m \u001b[0;34m=\u001b[0m \u001b[0mupdate_derivative\u001b[0m\u001b[0;34m(\u001b[0m\u001b[0;36m0.0\u001b[0m\u001b[0;34m,\u001b[0m \u001b[0mopt_state\u001b[0m\u001b[0;34m,\u001b[0m \u001b[0mbatch_data\u001b[0m\u001b[0;34m,\u001b[0m \u001b[0;36m0.0\u001b[0m\u001b[0;34m)\u001b[0m\u001b[0;34m\u001b[0m\u001b[0;34m\u001b[0m\u001b[0m\n\u001b[0m\u001b[1;32m     84\u001b[0m \u001b[0;34m\u001b[0m\u001b[0m\n\u001b[1;32m     85\u001b[0m \u001b[0;34m\u001b[0m\u001b[0m\n",
            "    \u001b[0;31m[... skipping hidden 1 frame]\u001b[0m\n",
            "\u001b[0;32m/usr/local/lib/python3.10/dist-packages/jax/_src/pjit.py\u001b[0m in \u001b[0;36mcache_miss\u001b[0;34m(*args, **kwargs)\u001b[0m\n\u001b[1;32m    248\u001b[0m   \u001b[0;34m@\u001b[0m\u001b[0mapi_boundary\u001b[0m\u001b[0;34m\u001b[0m\u001b[0;34m\u001b[0m\u001b[0m\n\u001b[1;32m    249\u001b[0m   \u001b[0;32mdef\u001b[0m \u001b[0mcache_miss\u001b[0m\u001b[0;34m(\u001b[0m\u001b[0;34m*\u001b[0m\u001b[0margs\u001b[0m\u001b[0;34m,\u001b[0m \u001b[0;34m**\u001b[0m\u001b[0mkwargs\u001b[0m\u001b[0;34m)\u001b[0m\u001b[0;34m:\u001b[0m\u001b[0;34m\u001b[0m\u001b[0;34m\u001b[0m\u001b[0m\n\u001b[0;32m--> 250\u001b[0;31m     outs, out_flat, out_tree, args_flat, jaxpr = _python_pjit_helper(\n\u001b[0m\u001b[1;32m    251\u001b[0m         fun, infer_params_fn, *args, **kwargs)\n\u001b[1;32m    252\u001b[0m     \u001b[0mexecutable\u001b[0m \u001b[0;34m=\u001b[0m \u001b[0m_read_most_recent_pjit_call_executable\u001b[0m\u001b[0;34m(\u001b[0m\u001b[0mjaxpr\u001b[0m\u001b[0;34m)\u001b[0m\u001b[0;34m\u001b[0m\u001b[0;34m\u001b[0m\u001b[0m\n",
            "\u001b[0;32m/usr/local/lib/python3.10/dist-packages/jax/_src/pjit.py\u001b[0m in \u001b[0;36m_python_pjit_helper\u001b[0;34m(fun, infer_params_fn, *args, **kwargs)\u001b[0m\n\u001b[1;32m    161\u001b[0m     \u001b[0mdispatch\u001b[0m\u001b[0;34m.\u001b[0m\u001b[0mcheck_arg\u001b[0m\u001b[0;34m(\u001b[0m\u001b[0marg\u001b[0m\u001b[0;34m)\u001b[0m\u001b[0;34m\u001b[0m\u001b[0;34m\u001b[0m\u001b[0m\n\u001b[1;32m    162\u001b[0m   \u001b[0;32mtry\u001b[0m\u001b[0;34m:\u001b[0m\u001b[0;34m\u001b[0m\u001b[0;34m\u001b[0m\u001b[0m\n\u001b[0;32m--> 163\u001b[0;31m     \u001b[0mout_flat\u001b[0m \u001b[0;34m=\u001b[0m \u001b[0mpjit_p\u001b[0m\u001b[0;34m.\u001b[0m\u001b[0mbind\u001b[0m\u001b[0;34m(\u001b[0m\u001b[0;34m*\u001b[0m\u001b[0margs_flat\u001b[0m\u001b[0;34m,\u001b[0m \u001b[0;34m**\u001b[0m\u001b[0mparams\u001b[0m\u001b[0;34m)\u001b[0m\u001b[0;34m\u001b[0m\u001b[0;34m\u001b[0m\u001b[0m\n\u001b[0m\u001b[1;32m    164\u001b[0m   \u001b[0;32mexcept\u001b[0m \u001b[0mpxla\u001b[0m\u001b[0;34m.\u001b[0m\u001b[0mDeviceAssignmentMismatchError\u001b[0m \u001b[0;32mas\u001b[0m \u001b[0me\u001b[0m\u001b[0;34m:\u001b[0m\u001b[0;34m\u001b[0m\u001b[0;34m\u001b[0m\u001b[0m\n\u001b[1;32m    165\u001b[0m     \u001b[0mfails\u001b[0m\u001b[0;34m,\u001b[0m \u001b[0;34m=\u001b[0m \u001b[0me\u001b[0m\u001b[0;34m.\u001b[0m\u001b[0margs\u001b[0m\u001b[0;34m\u001b[0m\u001b[0;34m\u001b[0m\u001b[0m\n",
            "\u001b[0;32m/usr/local/lib/python3.10/dist-packages/jax/_src/core.py\u001b[0m in \u001b[0;36mbind\u001b[0;34m(self, *args, **params)\u001b[0m\n\u001b[1;32m   2675\u001b[0m     top_trace = (top_trace if not axis_main or axis_main.level < top_trace.level\n\u001b[1;32m   2676\u001b[0m                  else axis_main.with_cur_sublevel())\n\u001b[0;32m-> 2677\u001b[0;31m     \u001b[0;32mreturn\u001b[0m \u001b[0mself\u001b[0m\u001b[0;34m.\u001b[0m\u001b[0mbind_with_trace\u001b[0m\u001b[0;34m(\u001b[0m\u001b[0mtop_trace\u001b[0m\u001b[0;34m,\u001b[0m \u001b[0margs\u001b[0m\u001b[0;34m,\u001b[0m \u001b[0mparams\u001b[0m\u001b[0;34m)\u001b[0m\u001b[0;34m\u001b[0m\u001b[0;34m\u001b[0m\u001b[0m\n\u001b[0m\u001b[1;32m   2678\u001b[0m \u001b[0;34m\u001b[0m\u001b[0m\n\u001b[1;32m   2679\u001b[0m \u001b[0;34m\u001b[0m\u001b[0m\n",
            "\u001b[0;32m/usr/local/lib/python3.10/dist-packages/jax/_src/core.py\u001b[0m in \u001b[0;36mbind_with_trace\u001b[0;34m(self, trace, args, params)\u001b[0m\n\u001b[1;32m    381\u001b[0m \u001b[0;34m\u001b[0m\u001b[0m\n\u001b[1;32m    382\u001b[0m   \u001b[0;32mdef\u001b[0m \u001b[0mbind_with_trace\u001b[0m\u001b[0;34m(\u001b[0m\u001b[0mself\u001b[0m\u001b[0;34m,\u001b[0m \u001b[0mtrace\u001b[0m\u001b[0;34m,\u001b[0m \u001b[0margs\u001b[0m\u001b[0;34m,\u001b[0m \u001b[0mparams\u001b[0m\u001b[0;34m)\u001b[0m\u001b[0;34m:\u001b[0m\u001b[0;34m\u001b[0m\u001b[0;34m\u001b[0m\u001b[0m\n\u001b[0;32m--> 383\u001b[0;31m     \u001b[0mout\u001b[0m \u001b[0;34m=\u001b[0m \u001b[0mtrace\u001b[0m\u001b[0;34m.\u001b[0m\u001b[0mprocess_primitive\u001b[0m\u001b[0;34m(\u001b[0m\u001b[0mself\u001b[0m\u001b[0;34m,\u001b[0m \u001b[0mmap\u001b[0m\u001b[0;34m(\u001b[0m\u001b[0mtrace\u001b[0m\u001b[0;34m.\u001b[0m\u001b[0mfull_raise\u001b[0m\u001b[0;34m,\u001b[0m \u001b[0margs\u001b[0m\u001b[0;34m)\u001b[0m\u001b[0;34m,\u001b[0m \u001b[0mparams\u001b[0m\u001b[0;34m)\u001b[0m\u001b[0;34m\u001b[0m\u001b[0;34m\u001b[0m\u001b[0m\n\u001b[0m\u001b[1;32m    384\u001b[0m     \u001b[0;32mreturn\u001b[0m \u001b[0mmap\u001b[0m\u001b[0;34m(\u001b[0m\u001b[0mfull_lower\u001b[0m\u001b[0;34m,\u001b[0m \u001b[0mout\u001b[0m\u001b[0;34m)\u001b[0m \u001b[0;32mif\u001b[0m \u001b[0mself\u001b[0m\u001b[0;34m.\u001b[0m\u001b[0mmultiple_results\u001b[0m \u001b[0;32melse\u001b[0m \u001b[0mfull_lower\u001b[0m\u001b[0;34m(\u001b[0m\u001b[0mout\u001b[0m\u001b[0;34m)\u001b[0m\u001b[0;34m\u001b[0m\u001b[0;34m\u001b[0m\u001b[0m\n\u001b[1;32m    385\u001b[0m \u001b[0;34m\u001b[0m\u001b[0m\n",
            "\u001b[0;32m/usr/local/lib/python3.10/dist-packages/jax/_src/core.py\u001b[0m in \u001b[0;36mprocess_primitive\u001b[0;34m(self, primitive, tracers, params)\u001b[0m\n\u001b[1;32m    813\u001b[0m \u001b[0;34m\u001b[0m\u001b[0m\n\u001b[1;32m    814\u001b[0m   \u001b[0;32mdef\u001b[0m \u001b[0mprocess_primitive\u001b[0m\u001b[0;34m(\u001b[0m\u001b[0mself\u001b[0m\u001b[0;34m,\u001b[0m \u001b[0mprimitive\u001b[0m\u001b[0;34m,\u001b[0m \u001b[0mtracers\u001b[0m\u001b[0;34m,\u001b[0m \u001b[0mparams\u001b[0m\u001b[0;34m)\u001b[0m\u001b[0;34m:\u001b[0m\u001b[0;34m\u001b[0m\u001b[0;34m\u001b[0m\u001b[0m\n\u001b[0;32m--> 815\u001b[0;31m     \u001b[0;32mreturn\u001b[0m \u001b[0mprimitive\u001b[0m\u001b[0;34m.\u001b[0m\u001b[0mimpl\u001b[0m\u001b[0;34m(\u001b[0m\u001b[0;34m*\u001b[0m\u001b[0mtracers\u001b[0m\u001b[0;34m,\u001b[0m \u001b[0;34m**\u001b[0m\u001b[0mparams\u001b[0m\u001b[0;34m)\u001b[0m\u001b[0;34m\u001b[0m\u001b[0;34m\u001b[0m\u001b[0m\n\u001b[0m\u001b[1;32m    816\u001b[0m \u001b[0;34m\u001b[0m\u001b[0m\n\u001b[1;32m    817\u001b[0m   \u001b[0;32mdef\u001b[0m \u001b[0mprocess_call\u001b[0m\u001b[0;34m(\u001b[0m\u001b[0mself\u001b[0m\u001b[0;34m,\u001b[0m \u001b[0mprimitive\u001b[0m\u001b[0;34m,\u001b[0m \u001b[0mf\u001b[0m\u001b[0;34m,\u001b[0m \u001b[0mtracers\u001b[0m\u001b[0;34m,\u001b[0m \u001b[0mparams\u001b[0m\u001b[0;34m)\u001b[0m\u001b[0;34m:\u001b[0m\u001b[0;34m\u001b[0m\u001b[0;34m\u001b[0m\u001b[0m\n",
            "\u001b[0;32m/usr/local/lib/python3.10/dist-packages/jax/_src/pjit.py\u001b[0m in \u001b[0;36m_pjit_call_impl\u001b[0;34m(jaxpr, in_shardings, out_shardings, resource_env, donated_invars, name, keep_unused, inline, *args)\u001b[0m\n\u001b[1;32m   1201\u001b[0m   has_explicit_sharding = _pjit_explicit_sharding(\n\u001b[1;32m   1202\u001b[0m       in_shardings, out_shardings, None, None)\n\u001b[0;32m-> 1203\u001b[0;31m   return xc._xla.pjit(name, f, call_impl_cache_miss, [], [], donated_argnums,\n\u001b[0m\u001b[1;32m   1204\u001b[0m                       _get_cpp_global_cache(has_explicit_sharding))(*args)\n\u001b[1;32m   1205\u001b[0m \u001b[0;34m\u001b[0m\u001b[0m\n",
            "\u001b[0;32m/usr/local/lib/python3.10/dist-packages/jax/_src/pjit.py\u001b[0m in \u001b[0;36mcall_impl_cache_miss\u001b[0;34m(*args_, **kwargs_)\u001b[0m\n\u001b[1;32m   1185\u001b[0m                     donated_invars, name, keep_unused, inline):\n\u001b[1;32m   1186\u001b[0m   \u001b[0;32mdef\u001b[0m \u001b[0mcall_impl_cache_miss\u001b[0m\u001b[0;34m(\u001b[0m\u001b[0;34m*\u001b[0m\u001b[0margs_\u001b[0m\u001b[0;34m,\u001b[0m \u001b[0;34m**\u001b[0m\u001b[0mkwargs_\u001b[0m\u001b[0;34m)\u001b[0m\u001b[0;34m:\u001b[0m\u001b[0;34m\u001b[0m\u001b[0;34m\u001b[0m\u001b[0m\n\u001b[0;32m-> 1187\u001b[0;31m     out_flat, compiled = _pjit_call_impl_python(\n\u001b[0m\u001b[1;32m   1188\u001b[0m         \u001b[0;34m*\u001b[0m\u001b[0margs\u001b[0m\u001b[0;34m,\u001b[0m \u001b[0mjaxpr\u001b[0m\u001b[0;34m=\u001b[0m\u001b[0mjaxpr\u001b[0m\u001b[0;34m,\u001b[0m \u001b[0min_shardings\u001b[0m\u001b[0;34m=\u001b[0m\u001b[0min_shardings\u001b[0m\u001b[0;34m,\u001b[0m\u001b[0;34m\u001b[0m\u001b[0;34m\u001b[0m\u001b[0m\n\u001b[1;32m   1189\u001b[0m         \u001b[0mout_shardings\u001b[0m\u001b[0;34m=\u001b[0m\u001b[0mout_shardings\u001b[0m\u001b[0;34m,\u001b[0m \u001b[0mresource_env\u001b[0m\u001b[0;34m=\u001b[0m\u001b[0mresource_env\u001b[0m\u001b[0;34m,\u001b[0m\u001b[0;34m\u001b[0m\u001b[0;34m\u001b[0m\u001b[0m\n",
            "\u001b[0;32m/usr/local/lib/python3.10/dist-packages/jax/_src/pjit.py\u001b[0m in \u001b[0;36m_pjit_call_impl_python\u001b[0;34m(jaxpr, in_shardings, out_shardings, resource_env, donated_invars, name, keep_unused, inline, *args)\u001b[0m\n\u001b[1;32m   1118\u001b[0m       resource_env.physical_mesh if resource_env is not None else None)\n\u001b[1;32m   1119\u001b[0m \u001b[0;34m\u001b[0m\u001b[0m\n\u001b[0;32m-> 1120\u001b[0;31m   compiled = _pjit_lower(\n\u001b[0m\u001b[1;32m   1121\u001b[0m       \u001b[0mjaxpr\u001b[0m\u001b[0;34m,\u001b[0m \u001b[0min_shardings\u001b[0m\u001b[0;34m,\u001b[0m \u001b[0mout_shardings\u001b[0m\u001b[0;34m,\u001b[0m \u001b[0mresource_env\u001b[0m\u001b[0;34m,\u001b[0m\u001b[0;34m\u001b[0m\u001b[0;34m\u001b[0m\u001b[0m\n\u001b[1;32m   1122\u001b[0m       \u001b[0mdonated_invars\u001b[0m\u001b[0;34m,\u001b[0m \u001b[0mname\u001b[0m\u001b[0;34m,\u001b[0m \u001b[0mkeep_unused\u001b[0m\u001b[0;34m,\u001b[0m \u001b[0minline\u001b[0m\u001b[0;34m,\u001b[0m\u001b[0;34m\u001b[0m\u001b[0;34m\u001b[0m\u001b[0m\n",
            "\u001b[0;32m/usr/local/lib/python3.10/dist-packages/jax/_src/pjit.py\u001b[0m in \u001b[0;36m_pjit_lower\u001b[0;34m(jaxpr, in_shardings, out_shardings, *args, **kwargs)\u001b[0m\n\u001b[1;32m   1247\u001b[0m   \u001b[0min_shardings\u001b[0m \u001b[0;34m=\u001b[0m \u001b[0mSameDeviceAssignmentTuple\u001b[0m\u001b[0;34m(\u001b[0m\u001b[0mtuple\u001b[0m\u001b[0;34m(\u001b[0m\u001b[0min_shardings\u001b[0m\u001b[0;34m)\u001b[0m\u001b[0;34m,\u001b[0m \u001b[0mda\u001b[0m\u001b[0;34m)\u001b[0m\u001b[0;34m\u001b[0m\u001b[0;34m\u001b[0m\u001b[0m\n\u001b[1;32m   1248\u001b[0m   \u001b[0mout_shardings\u001b[0m \u001b[0;34m=\u001b[0m \u001b[0mSameDeviceAssignmentTuple\u001b[0m\u001b[0;34m(\u001b[0m\u001b[0mtuple\u001b[0m\u001b[0;34m(\u001b[0m\u001b[0mout_shardings\u001b[0m\u001b[0;34m)\u001b[0m\u001b[0;34m,\u001b[0m \u001b[0mda\u001b[0m\u001b[0;34m)\u001b[0m\u001b[0;34m\u001b[0m\u001b[0;34m\u001b[0m\u001b[0m\n\u001b[0;32m-> 1249\u001b[0;31m   \u001b[0;32mreturn\u001b[0m \u001b[0m_pjit_lower_cached\u001b[0m\u001b[0;34m(\u001b[0m\u001b[0mjaxpr\u001b[0m\u001b[0;34m,\u001b[0m \u001b[0min_shardings\u001b[0m\u001b[0;34m,\u001b[0m \u001b[0mout_shardings\u001b[0m\u001b[0;34m,\u001b[0m \u001b[0;34m*\u001b[0m\u001b[0margs\u001b[0m\u001b[0;34m,\u001b[0m \u001b[0;34m**\u001b[0m\u001b[0mkwargs\u001b[0m\u001b[0;34m)\u001b[0m\u001b[0;34m\u001b[0m\u001b[0;34m\u001b[0m\u001b[0m\n\u001b[0m\u001b[1;32m   1250\u001b[0m \u001b[0;34m\u001b[0m\u001b[0m\n\u001b[1;32m   1251\u001b[0m \u001b[0;34m\u001b[0m\u001b[0m\n",
            "\u001b[0;32m/usr/local/lib/python3.10/dist-packages/jax/_src/pjit.py\u001b[0m in \u001b[0;36m_pjit_lower_cached\u001b[0;34m(jaxpr, sdat_in_shardings, sdat_out_shardings, resource_env, donated_invars, name, keep_unused, inline, always_lower, lowering_platform)\u001b[0m\n\u001b[1;32m   1287\u001b[0m       lowering_platform=lowering_platform)\n\u001b[1;32m   1288\u001b[0m   \u001b[0;32melse\u001b[0m\u001b[0;34m:\u001b[0m\u001b[0;34m\u001b[0m\u001b[0;34m\u001b[0m\u001b[0m\n\u001b[0;32m-> 1289\u001b[0;31m     return pxla.lower_sharding_computation(\n\u001b[0m\u001b[1;32m   1290\u001b[0m         \u001b[0mjaxpr\u001b[0m\u001b[0;34m,\u001b[0m \u001b[0mapi_name\u001b[0m\u001b[0;34m,\u001b[0m \u001b[0mname\u001b[0m\u001b[0;34m,\u001b[0m \u001b[0min_shardings\u001b[0m\u001b[0;34m,\u001b[0m \u001b[0mout_shardings\u001b[0m\u001b[0;34m,\u001b[0m\u001b[0;34m\u001b[0m\u001b[0;34m\u001b[0m\u001b[0m\n\u001b[1;32m   1291\u001b[0m         \u001b[0mtuple\u001b[0m\u001b[0;34m(\u001b[0m\u001b[0mdonated_invars\u001b[0m\u001b[0;34m)\u001b[0m\u001b[0;34m,\u001b[0m \u001b[0mtuple\u001b[0m\u001b[0;34m(\u001b[0m\u001b[0mjaxpr\u001b[0m\u001b[0;34m.\u001b[0m\u001b[0min_avals\u001b[0m\u001b[0;34m)\u001b[0m\u001b[0;34m,\u001b[0m\u001b[0;34m\u001b[0m\u001b[0;34m\u001b[0m\u001b[0m\n",
            "\u001b[0;32m/usr/local/lib/python3.10/dist-packages/jax/_src/profiler.py\u001b[0m in \u001b[0;36mwrapper\u001b[0;34m(*args, **kwargs)\u001b[0m\n\u001b[1;32m    312\u001b[0m   \u001b[0;32mdef\u001b[0m \u001b[0mwrapper\u001b[0m\u001b[0;34m(\u001b[0m\u001b[0;34m*\u001b[0m\u001b[0margs\u001b[0m\u001b[0;34m,\u001b[0m \u001b[0;34m**\u001b[0m\u001b[0mkwargs\u001b[0m\u001b[0;34m)\u001b[0m\u001b[0;34m:\u001b[0m\u001b[0;34m\u001b[0m\u001b[0;34m\u001b[0m\u001b[0m\n\u001b[1;32m    313\u001b[0m     \u001b[0;32mwith\u001b[0m \u001b[0mTraceAnnotation\u001b[0m\u001b[0;34m(\u001b[0m\u001b[0mname\u001b[0m\u001b[0;34m,\u001b[0m \u001b[0;34m**\u001b[0m\u001b[0mdecorator_kwargs\u001b[0m\u001b[0;34m)\u001b[0m\u001b[0;34m:\u001b[0m\u001b[0;34m\u001b[0m\u001b[0;34m\u001b[0m\u001b[0m\n\u001b[0;32m--> 314\u001b[0;31m       \u001b[0;32mreturn\u001b[0m \u001b[0mfunc\u001b[0m\u001b[0;34m(\u001b[0m\u001b[0;34m*\u001b[0m\u001b[0margs\u001b[0m\u001b[0;34m,\u001b[0m \u001b[0;34m**\u001b[0m\u001b[0mkwargs\u001b[0m\u001b[0;34m)\u001b[0m\u001b[0;34m\u001b[0m\u001b[0;34m\u001b[0m\u001b[0m\n\u001b[0m\u001b[1;32m    315\u001b[0m     \u001b[0;32mreturn\u001b[0m \u001b[0mwrapper\u001b[0m\u001b[0;34m\u001b[0m\u001b[0;34m\u001b[0m\u001b[0m\n\u001b[1;32m    316\u001b[0m   \u001b[0;32mreturn\u001b[0m \u001b[0mwrapper\u001b[0m\u001b[0;34m\u001b[0m\u001b[0;34m\u001b[0m\u001b[0m\n",
            "\u001b[0;32m/usr/local/lib/python3.10/dist-packages/jax/_src/interpreters/pxla.py\u001b[0m in \u001b[0;36mlower_sharding_computation\u001b[0;34m(fun_or_jaxpr, api_name, fun_name, in_shardings, out_shardings, donated_invars, global_in_avals, keep_unused, inline, always_lower, devices_from_context, lowering_platform)\u001b[0m\n\u001b[1;32m   2083\u001b[0m   \u001b[0msemantic_out_shardings\u001b[0m \u001b[0;34m=\u001b[0m \u001b[0mSemanticallyEqualShardings\u001b[0m\u001b[0;34m(\u001b[0m\u001b[0mout_shardings\u001b[0m\u001b[0;34m)\u001b[0m\u001b[0;34m\u001b[0m\u001b[0;34m\u001b[0m\u001b[0m\n\u001b[1;32m   2084\u001b[0m   (module, keepalive, host_callbacks, unordered_effects, ordered_effects,\n\u001b[0;32m-> 2085\u001b[0;31m    \u001b[0mnreps\u001b[0m\u001b[0;34m,\u001b[0m \u001b[0mtuple_args\u001b[0m\u001b[0;34m,\u001b[0m \u001b[0mshape_poly_state\u001b[0m\u001b[0;34m)\u001b[0m \u001b[0;34m=\u001b[0m \u001b[0m_cached_lowering_to_hlo\u001b[0m\u001b[0;34m(\u001b[0m\u001b[0;34m\u001b[0m\u001b[0;34m\u001b[0m\u001b[0m\n\u001b[0m\u001b[1;32m   2086\u001b[0m        \u001b[0mclosed_jaxpr\u001b[0m\u001b[0;34m,\u001b[0m \u001b[0mapi_name\u001b[0m\u001b[0;34m,\u001b[0m \u001b[0mfun_name\u001b[0m\u001b[0;34m,\u001b[0m \u001b[0mbackend\u001b[0m\u001b[0;34m,\u001b[0m \u001b[0msemantic_in_shardings\u001b[0m\u001b[0;34m,\u001b[0m\u001b[0;34m\u001b[0m\u001b[0;34m\u001b[0m\u001b[0m\n\u001b[1;32m   2087\u001b[0m        \u001b[0msemantic_out_shardings\u001b[0m\u001b[0;34m,\u001b[0m \u001b[0mda_object\u001b[0m\u001b[0;34m,\u001b[0m \u001b[0mlowering_platform\u001b[0m\u001b[0;34m,\u001b[0m\u001b[0;34m\u001b[0m\u001b[0;34m\u001b[0m\u001b[0m\n",
            "\u001b[0;32m/usr/local/lib/python3.10/dist-packages/jax/_src/interpreters/pxla.py\u001b[0m in \u001b[0;36m_cached_lowering_to_hlo\u001b[0;34m(closed_jaxpr, api_name, fun_name, backend, semantic_in_shardings, semantic_out_shardings, da_object, lowering_platform, donated_invars, name_stack)\u001b[0m\n\u001b[1;32m   1926\u001b[0m         \u001b[0;34m\"Finished jaxpr to MLIR module conversion {fun_name} in {elapsed_time} sec\"\u001b[0m\u001b[0;34m,\u001b[0m\u001b[0;34m\u001b[0m\u001b[0;34m\u001b[0m\u001b[0m\n\u001b[1;32m   1927\u001b[0m         fun_name=str(name_stack), event=dispatch.JAXPR_TO_MLIR_MODULE_EVENT):\n\u001b[0;32m-> 1928\u001b[0;31m     lowering_result = mlir.lower_jaxpr_to_module(\n\u001b[0m\u001b[1;32m   1929\u001b[0m         \u001b[0mmodule_name\u001b[0m\u001b[0;34m,\u001b[0m\u001b[0;34m\u001b[0m\u001b[0;34m\u001b[0m\u001b[0m\n\u001b[1;32m   1930\u001b[0m         \u001b[0mclosed_jaxpr\u001b[0m\u001b[0;34m,\u001b[0m\u001b[0;34m\u001b[0m\u001b[0;34m\u001b[0m\u001b[0m\n",
            "\u001b[0;32m/usr/local/lib/python3.10/dist-packages/jax/_src/interpreters/mlir.py\u001b[0m in \u001b[0;36mlower_jaxpr_to_module\u001b[0;34m(module_name, jaxpr, ordered_effects, backend_or_name, platform, axis_context, name_stack, donated_args, replicated_args, arg_shardings, result_shardings, arg_names, result_names, num_replicas, num_partitions)\u001b[0m\n\u001b[1;32m    697\u001b[0m     \u001b[0mattrs\u001b[0m\u001b[0;34m[\u001b[0m\u001b[0;34m\"mhlo.num_replicas\"\u001b[0m\u001b[0;34m]\u001b[0m \u001b[0;34m=\u001b[0m \u001b[0mi32_attr\u001b[0m\u001b[0;34m(\u001b[0m\u001b[0mnum_replicas\u001b[0m\u001b[0;34m)\u001b[0m\u001b[0;34m\u001b[0m\u001b[0;34m\u001b[0m\u001b[0m\n\u001b[1;32m    698\u001b[0m     \u001b[0mattrs\u001b[0m\u001b[0;34m[\u001b[0m\u001b[0;34m\"mhlo.num_partitions\"\u001b[0m\u001b[0;34m]\u001b[0m \u001b[0;34m=\u001b[0m \u001b[0mi32_attr\u001b[0m\u001b[0;34m(\u001b[0m\u001b[0mnum_partitions\u001b[0m\u001b[0;34m)\u001b[0m\u001b[0;34m\u001b[0m\u001b[0;34m\u001b[0m\u001b[0m\n\u001b[0;32m--> 699\u001b[0;31m     lower_jaxpr_to_fun(\n\u001b[0m\u001b[1;32m    700\u001b[0m         \u001b[0mctx\u001b[0m\u001b[0;34m,\u001b[0m \u001b[0;34m\"main\"\u001b[0m\u001b[0;34m,\u001b[0m \u001b[0mjaxpr\u001b[0m\u001b[0;34m,\u001b[0m \u001b[0mordered_effects\u001b[0m\u001b[0;34m,\u001b[0m \u001b[0mpublic\u001b[0m\u001b[0;34m=\u001b[0m\u001b[0;32mTrue\u001b[0m\u001b[0;34m,\u001b[0m \u001b[0mcreate_tokens\u001b[0m\u001b[0;34m=\u001b[0m\u001b[0;32mTrue\u001b[0m\u001b[0;34m,\u001b[0m\u001b[0;34m\u001b[0m\u001b[0;34m\u001b[0m\u001b[0m\n\u001b[1;32m    701\u001b[0m         \u001b[0mreplace_tokens_with_dummy\u001b[0m\u001b[0;34m=\u001b[0m\u001b[0;32mTrue\u001b[0m\u001b[0;34m,\u001b[0m\u001b[0;34m\u001b[0m\u001b[0;34m\u001b[0m\u001b[0m\n",
            "\u001b[0;32m/usr/local/lib/python3.10/dist-packages/jax/_src/interpreters/mlir.py\u001b[0m in \u001b[0;36mlower_jaxpr_to_fun\u001b[0;34m(ctx, name, jaxpr, effects, create_tokens, public, replace_tokens_with_dummy, replicated_args, arg_shardings, result_shardings, use_sharding_annotations, input_output_aliases, num_output_tokens, api_name, arg_names, result_names)\u001b[0m\n\u001b[1;32m   1028\u001b[0m         \u001b[0margs\u001b[0m\u001b[0;34m.\u001b[0m\u001b[0mappend\u001b[0m\u001b[0;34m(\u001b[0m\u001b[0marg\u001b[0m\u001b[0;34m)\u001b[0m\u001b[0;34m\u001b[0m\u001b[0;34m\u001b[0m\u001b[0m\n\u001b[1;32m   1029\u001b[0m     \u001b[0mcallee_name_stack\u001b[0m \u001b[0;34m=\u001b[0m \u001b[0mctx\u001b[0m\u001b[0;34m.\u001b[0m\u001b[0mname_stack\u001b[0m\u001b[0;34m.\u001b[0m\u001b[0mextend\u001b[0m\u001b[0;34m(\u001b[0m\u001b[0mutil\u001b[0m\u001b[0;34m.\u001b[0m\u001b[0mwrap_name\u001b[0m\u001b[0;34m(\u001b[0m\u001b[0mname\u001b[0m\u001b[0;34m,\u001b[0m \u001b[0mapi_name\u001b[0m\u001b[0;34m)\u001b[0m\u001b[0;34m)\u001b[0m\u001b[0;34m\u001b[0m\u001b[0;34m\u001b[0m\u001b[0m\n\u001b[0;32m-> 1030\u001b[0;31m     out_vals, tokens_out = jaxpr_subcomp(ctx.replace(name_stack=callee_name_stack),\n\u001b[0m\u001b[1;32m   1031\u001b[0m                                          \u001b[0mjaxpr\u001b[0m\u001b[0;34m.\u001b[0m\u001b[0mjaxpr\u001b[0m\u001b[0;34m,\u001b[0m \u001b[0mtokens_in\u001b[0m\u001b[0;34m,\u001b[0m \u001b[0mmap\u001b[0m\u001b[0;34m(\u001b[0m\u001b[0mir_constants\u001b[0m\u001b[0;34m,\u001b[0m \u001b[0mjaxpr\u001b[0m\u001b[0;34m.\u001b[0m\u001b[0mconsts\u001b[0m\u001b[0;34m)\u001b[0m\u001b[0;34m,\u001b[0m\u001b[0;34m\u001b[0m\u001b[0;34m\u001b[0m\u001b[0m\n\u001b[1;32m   1032\u001b[0m                                          *args, dim_var_values=dim_var_values)\n",
            "\u001b[0;32m/usr/local/lib/python3.10/dist-packages/jax/_src/interpreters/mlir.py\u001b[0m in \u001b[0;36mjaxpr_subcomp\u001b[0;34m(ctx, jaxpr, tokens, consts, dim_var_values, *args)\u001b[0m\n\u001b[1;32m   1142\u001b[0m   \u001b[0mlast_used\u001b[0m \u001b[0;34m=\u001b[0m \u001b[0mcore\u001b[0m\u001b[0;34m.\u001b[0m\u001b[0mlast_used\u001b[0m\u001b[0;34m(\u001b[0m\u001b[0mjaxpr\u001b[0m\u001b[0;34m)\u001b[0m\u001b[0;34m\u001b[0m\u001b[0;34m\u001b[0m\u001b[0m\n\u001b[1;32m   1143\u001b[0m   \u001b[0;32mfor\u001b[0m \u001b[0meqn\u001b[0m \u001b[0;32min\u001b[0m \u001b[0mjaxpr\u001b[0m\u001b[0;34m.\u001b[0m\u001b[0meqns\u001b[0m\u001b[0;34m:\u001b[0m\u001b[0;34m\u001b[0m\u001b[0;34m\u001b[0m\u001b[0m\n\u001b[0;32m-> 1144\u001b[0;31m     \u001b[0min_nodes\u001b[0m \u001b[0;34m=\u001b[0m \u001b[0mmap\u001b[0m\u001b[0;34m(\u001b[0m\u001b[0mread\u001b[0m\u001b[0;34m,\u001b[0m \u001b[0meqn\u001b[0m\u001b[0;34m.\u001b[0m\u001b[0minvars\u001b[0m\u001b[0;34m)\u001b[0m\u001b[0;34m\u001b[0m\u001b[0;34m\u001b[0m\u001b[0m\n\u001b[0m\u001b[1;32m   1145\u001b[0m     \u001b[0;32massert\u001b[0m \u001b[0misinstance\u001b[0m\u001b[0;34m(\u001b[0m\u001b[0mctx\u001b[0m\u001b[0;34m.\u001b[0m\u001b[0mname_stack\u001b[0m\u001b[0;34m,\u001b[0m \u001b[0msource_info_util\u001b[0m\u001b[0;34m.\u001b[0m\u001b[0mNameStack\u001b[0m\u001b[0;34m)\u001b[0m\u001b[0;34m,\u001b[0m \u001b[0mtype\u001b[0m\u001b[0;34m(\u001b[0m\u001b[0mctx\u001b[0m\u001b[0;34m.\u001b[0m\u001b[0mname_stack\u001b[0m\u001b[0;34m)\u001b[0m\u001b[0;34m\u001b[0m\u001b[0;34m\u001b[0m\u001b[0m\n\u001b[1;32m   1146\u001b[0m     source_info = eqn.source_info.replace(\n",
            "\u001b[0;32m/usr/local/lib/python3.10/dist-packages/jax/_src/interpreters/mlir.py\u001b[0m in \u001b[0;36mread\u001b[0;34m(v)\u001b[0m\n\u001b[1;32m   1116\u001b[0m   \u001b[0;32mdef\u001b[0m \u001b[0mread\u001b[0m\u001b[0;34m(\u001b[0m\u001b[0mv\u001b[0m\u001b[0;34m:\u001b[0m \u001b[0mcore\u001b[0m\u001b[0;34m.\u001b[0m\u001b[0mAtom\u001b[0m\u001b[0;34m)\u001b[0m \u001b[0;34m->\u001b[0m \u001b[0mSequence\u001b[0m\u001b[0;34m[\u001b[0m\u001b[0mir\u001b[0m\u001b[0;34m.\u001b[0m\u001b[0mValue\u001b[0m\u001b[0;34m]\u001b[0m\u001b[0;34m:\u001b[0m\u001b[0;34m\u001b[0m\u001b[0;34m\u001b[0m\u001b[0m\n\u001b[1;32m   1117\u001b[0m     \u001b[0;32mif\u001b[0m \u001b[0mtype\u001b[0m\u001b[0;34m(\u001b[0m\u001b[0mv\u001b[0m\u001b[0;34m)\u001b[0m \u001b[0;32mis\u001b[0m \u001b[0mcore\u001b[0m\u001b[0;34m.\u001b[0m\u001b[0mLiteral\u001b[0m\u001b[0;34m:\u001b[0m\u001b[0;34m\u001b[0m\u001b[0;34m\u001b[0m\u001b[0m\n\u001b[0;32m-> 1118\u001b[0;31m       \u001b[0;32mreturn\u001b[0m \u001b[0mir_constants\u001b[0m\u001b[0;34m(\u001b[0m\u001b[0mv\u001b[0m\u001b[0;34m.\u001b[0m\u001b[0mval\u001b[0m\u001b[0;34m,\u001b[0m \u001b[0mcanonicalize_types\u001b[0m\u001b[0;34m=\u001b[0m\u001b[0;32mTrue\u001b[0m\u001b[0;34m)\u001b[0m\u001b[0;34m\u001b[0m\u001b[0;34m\u001b[0m\u001b[0m\n\u001b[0m\u001b[1;32m   1119\u001b[0m     \u001b[0;32melse\u001b[0m\u001b[0;34m:\u001b[0m\u001b[0;34m\u001b[0m\u001b[0;34m\u001b[0m\u001b[0m\n\u001b[1;32m   1120\u001b[0m       \u001b[0;32massert\u001b[0m \u001b[0misinstance\u001b[0m\u001b[0;34m(\u001b[0m\u001b[0mv\u001b[0m\u001b[0;34m,\u001b[0m \u001b[0mcore\u001b[0m\u001b[0;34m.\u001b[0m\u001b[0mVar\u001b[0m\u001b[0;34m)\u001b[0m\u001b[0;34m\u001b[0m\u001b[0;34m\u001b[0m\u001b[0m\n",
            "\u001b[0;32m/usr/local/lib/python3.10/dist-packages/jax/_src/interpreters/mlir.py\u001b[0m in \u001b[0;36mir_constants\u001b[0;34m(val, canonicalize_types)\u001b[0m\n\u001b[1;32m    225\u001b[0m     \u001b[0mhandler\u001b[0m \u001b[0;34m=\u001b[0m \u001b[0m_constant_handlers\u001b[0m\u001b[0;34m.\u001b[0m\u001b[0mget\u001b[0m\u001b[0;34m(\u001b[0m\u001b[0mt\u001b[0m\u001b[0;34m)\u001b[0m\u001b[0;34m\u001b[0m\u001b[0;34m\u001b[0m\u001b[0m\n\u001b[1;32m    226\u001b[0m     \u001b[0;32mif\u001b[0m \u001b[0mhandler\u001b[0m\u001b[0;34m:\u001b[0m\u001b[0;34m\u001b[0m\u001b[0;34m\u001b[0m\u001b[0m\n\u001b[0;32m--> 227\u001b[0;31m       \u001b[0mout\u001b[0m \u001b[0;34m=\u001b[0m \u001b[0mhandler\u001b[0m\u001b[0;34m(\u001b[0m\u001b[0mval\u001b[0m\u001b[0;34m,\u001b[0m \u001b[0mcanonicalize_types\u001b[0m\u001b[0;34m)\u001b[0m\u001b[0;34m\u001b[0m\u001b[0;34m\u001b[0m\u001b[0m\n\u001b[0m\u001b[1;32m    228\u001b[0m       \u001b[0;32massert\u001b[0m \u001b[0mall\u001b[0m\u001b[0;34m(\u001b[0m\u001b[0misinstance\u001b[0m\u001b[0;34m(\u001b[0m\u001b[0mv\u001b[0m\u001b[0;34m,\u001b[0m \u001b[0mir\u001b[0m\u001b[0;34m.\u001b[0m\u001b[0mValue\u001b[0m\u001b[0;34m)\u001b[0m \u001b[0;32mfor\u001b[0m \u001b[0mv\u001b[0m \u001b[0;32min\u001b[0m \u001b[0mout\u001b[0m\u001b[0;34m)\u001b[0m\u001b[0;34m,\u001b[0m \u001b[0;34m(\u001b[0m\u001b[0mtype\u001b[0m\u001b[0;34m(\u001b[0m\u001b[0mval\u001b[0m\u001b[0;34m)\u001b[0m\u001b[0;34m,\u001b[0m \u001b[0mout\u001b[0m\u001b[0;34m)\u001b[0m\u001b[0;34m\u001b[0m\u001b[0;34m\u001b[0m\u001b[0m\n\u001b[1;32m    229\u001b[0m       \u001b[0;32mreturn\u001b[0m \u001b[0mout\u001b[0m\u001b[0;34m\u001b[0m\u001b[0;34m\u001b[0m\u001b[0m\n",
            "\u001b[0;32m/usr/local/lib/python3.10/dist-packages/jax/_src/interpreters/mlir.py\u001b[0m in \u001b[0;36m_ndarray_constant_handler\u001b[0;34m(val, canonicalize_types)\u001b[0m\n\u001b[1;32m    303\u001b[0m     \u001b[0;32mreturn\u001b[0m \u001b[0;34m(\u001b[0m\u001b[0mout\u001b[0m\u001b[0;34m,\u001b[0m\u001b[0;34m)\u001b[0m\u001b[0;34m\u001b[0m\u001b[0;34m\u001b[0m\u001b[0m\n\u001b[1;32m    304\u001b[0m   \u001b[0;32melse\u001b[0m\u001b[0;34m:\u001b[0m\u001b[0;34m\u001b[0m\u001b[0;34m\u001b[0m\u001b[0m\n\u001b[0;32m--> 305\u001b[0;31m     \u001b[0;32mreturn\u001b[0m \u001b[0m_numpy_array_constant\u001b[0m\u001b[0;34m(\u001b[0m\u001b[0mval\u001b[0m\u001b[0;34m,\u001b[0m \u001b[0mcanonicalize_types\u001b[0m\u001b[0;34m)\u001b[0m\u001b[0;34m\u001b[0m\u001b[0;34m\u001b[0m\u001b[0m\n\u001b[0m\u001b[1;32m    306\u001b[0m \u001b[0;34m\u001b[0m\u001b[0m\n\u001b[1;32m    307\u001b[0m \u001b[0mregister_constant_handler\u001b[0m\u001b[0;34m(\u001b[0m\u001b[0mnp\u001b[0m\u001b[0;34m.\u001b[0m\u001b[0mndarray\u001b[0m\u001b[0;34m,\u001b[0m \u001b[0m_ndarray_constant_handler\u001b[0m\u001b[0;34m)\u001b[0m\u001b[0;34m\u001b[0m\u001b[0;34m\u001b[0m\u001b[0m\n",
            "\u001b[0;32m/usr/local/lib/python3.10/dist-packages/jax/_src/interpreters/mlir.py\u001b[0m in \u001b[0;36m_numpy_array_constant\u001b[0;34m(x, canonicalize_types)\u001b[0m\n\u001b[1;32m    258\u001b[0m   \u001b[0mx\u001b[0m \u001b[0;34m=\u001b[0m \u001b[0mnp\u001b[0m\u001b[0;34m.\u001b[0m\u001b[0mascontiguousarray\u001b[0m\u001b[0;34m(\u001b[0m\u001b[0mx\u001b[0m\u001b[0;34m)\u001b[0m\u001b[0;34m\u001b[0m\u001b[0;34m\u001b[0m\u001b[0m\n\u001b[1;32m    259\u001b[0m   \u001b[0mattr\u001b[0m \u001b[0;34m=\u001b[0m \u001b[0mir\u001b[0m\u001b[0;34m.\u001b[0m\u001b[0mDenseElementsAttr\u001b[0m\u001b[0;34m.\u001b[0m\u001b[0mget\u001b[0m\u001b[0;34m(\u001b[0m\u001b[0mx\u001b[0m\u001b[0;34m,\u001b[0m \u001b[0mtype\u001b[0m\u001b[0;34m=\u001b[0m\u001b[0melement_type\u001b[0m\u001b[0;34m,\u001b[0m \u001b[0mshape\u001b[0m\u001b[0;34m=\u001b[0m\u001b[0mshape\u001b[0m\u001b[0;34m)\u001b[0m\u001b[0;34m\u001b[0m\u001b[0;34m\u001b[0m\u001b[0m\n\u001b[0;32m--> 260\u001b[0;31m   \u001b[0;32mreturn\u001b[0m \u001b[0;34m(\u001b[0m\u001b[0mhlo\u001b[0m\u001b[0;34m.\u001b[0m\u001b[0mConstantOp\u001b[0m\u001b[0;34m(\u001b[0m\u001b[0mattr\u001b[0m\u001b[0;34m)\u001b[0m\u001b[0;34m.\u001b[0m\u001b[0mresult\u001b[0m\u001b[0;34m,\u001b[0m\u001b[0;34m)\u001b[0m\u001b[0;34m\u001b[0m\u001b[0;34m\u001b[0m\u001b[0m\n\u001b[0m\u001b[1;32m    261\u001b[0m \u001b[0;34m\u001b[0m\u001b[0m\n\u001b[1;32m    262\u001b[0m \u001b[0;34m\u001b[0m\u001b[0m\n",
            "\u001b[0;32m/usr/local/lib/python3.10/dist-packages/jaxlib/mlir/dialects/_stablehlo_ops_gen.py\u001b[0m in \u001b[0;36m__init__\u001b[0;34m(self, value, loc, ip)\u001b[0m\n\u001b[1;32m   1209\u001b[0m     results = _ods_ir.InferTypeOpInterface(ConstantOp).inferReturnTypes(\n\u001b[1;32m   1210\u001b[0m         \u001b[0moperands\u001b[0m\u001b[0;34m=\u001b[0m\u001b[0moperands\u001b[0m\u001b[0;34m,\u001b[0m\u001b[0;34m\u001b[0m\u001b[0;34m\u001b[0m\u001b[0m\n\u001b[0;32m-> 1211\u001b[0;31m         \u001b[0mattributes\u001b[0m\u001b[0;34m=\u001b[0m\u001b[0m_ods_ir\u001b[0m\u001b[0;34m.\u001b[0m\u001b[0mDictAttr\u001b[0m\u001b[0;34m.\u001b[0m\u001b[0mget\u001b[0m\u001b[0;34m(\u001b[0m\u001b[0mattributes\u001b[0m\u001b[0;34m,\u001b[0m \u001b[0mcontext\u001b[0m\u001b[0;34m=\u001b[0m\u001b[0m_ods_context\u001b[0m\u001b[0;34m)\u001b[0m\u001b[0;34m,\u001b[0m\u001b[0;34m\u001b[0m\u001b[0;34m\u001b[0m\u001b[0m\n\u001b[0m\u001b[1;32m   1212\u001b[0m         \u001b[0mcontext\u001b[0m\u001b[0;34m=\u001b[0m\u001b[0m_ods_context\u001b[0m\u001b[0;34m,\u001b[0m\u001b[0;34m\u001b[0m\u001b[0;34m\u001b[0m\u001b[0m\n\u001b[1;32m   1213\u001b[0m         loc=loc)\n",
            "\u001b[0;31mKeyboardInterrupt\u001b[0m: "
          ]
        }
      ]
    },
    {
      "cell_type": "markdown",
      "source": [
        "# Test"
      ],
      "metadata": {
        "id": "fXeQpCMqNqFE"
      }
    },
    {
      "cell_type": "code",
      "source": [
        "lr = 4e-5 #1e-3\n",
        "final_div_factor=1e4\n",
        "\n",
        "@jax.jit\n",
        "def OneCycleLR(pct):\n",
        "    #Rush it:\n",
        "    start = 0.2 #0.2\n",
        "    pct = pct * (1-start) + start\n",
        "    high, low = lr, lr/final_div_factor\n",
        "\n",
        "    scale = 1.0 - (jnp.cos(2 * jnp.pi * pct) + 1)/2\n",
        "\n",
        "    return low + (high - low)*scale\n",
        "\n",
        "model_checkpoint = root_path + \"1R_elastic_vertical/baseline_nn_elastic_params_1000.pkl\"\n",
        "model_checkpoint_lnn = root_path + \"1R_elastic_vertical/lnn_elastic_params_1000.pkl\"\n",
        "loaded_model = read_from(model_checkpoint)\n",
        "loaded_model_lnn = read_from(model_checkpoint_lnn)\n",
        "loaded_args = loaded_model['args']\n",
        "loaded_args_lnn = loaded_model_lnn['args']\n",
        "loaded_params = loaded_model['params']\n",
        "loaded_params_lnn = loaded_model_lnn['params']\n",
        "init_random_params, nn_forward_fn = extended_mlp(loaded_args)\n",
        "init_random_params_lnn, nn_forward_fn_lnn = extended_mlp(loaded_args_lnn)\n",
        "opt_init, opt_update, get_params = optimizers.adam(OneCycleLR)\n",
        "opt_init_lnn, opt_update_lnn, get_params_lnn = optimizers.adam(OneCycleLR)\n",
        "opt_state = opt_init(loaded_params)\n",
        "opt_state_lnn = opt_init(loaded_params_lnn)\n",
        "\n",
        "max_t = 100\n",
        "new_dataset = new_get_dataset(jax.random.PRNGKey(2),\n",
        "                              t_span=[0, max_t],\n",
        "                              fps=10, test_split=1.0,\n",
        "                              unlimited_steps=False)\n",
        "\n",
        "t = new_dataset['x'][0, :]\n",
        "tall = [jax.device_get(t)]\n",
        "p = get_params(opt_state)\n",
        "p_lnn = get_params_lnn(opt_state_lnn)\n",
        "\n",
        "\n",
        "pred_tall = jax.device_get(odeint(\n",
        "    partial(baseline_eom, learned_dynamics(p)),\n",
        "    t,\n",
        "    np.linspace(0, max_t, num=new_dataset['x'].shape[0])))\n",
        "\n",
        "max_t_lnn = 10\n",
        "\n",
        "pred_tall_lnn = jax.device_get(odeint(\n",
        "    partial(raw_lagrangian_eom, learned_dynamics_lnn(p_lnn)),\n",
        "    t,\n",
        "    np.linspace(0, max_t_lnn, num=new_dataset['x'].shape[0])))"
      ],
      "metadata": {
        "id": "SMluGyUW13Rg"
      },
      "execution_count": 38,
      "outputs": []
    },
    {
      "cell_type": "code",
      "source": [
        "tall = np.array(tall)\n",
        "\n",
        "fig, ax = plt.subplots(2, 1)\n",
        "fig.suptitle(\"Free evolution without noise\")\n",
        "ax[0].set_title(\"Trajectory\")\n",
        "ax[0].plot(new_dataset['x'][:300, 0],label=\"Truth\", color=\"blue\")\n",
        "ax[0].plot(pred_tall[:300, 0], label='Baseline', color='orange')\n",
        "ax[0].plot(pred_tall_lnn[:300, 0], label='lnn', color='green')\n",
        "ax[0].set_ylabel('q')\n",
        "ax[0].set_xlabel('Time')\n",
        "ax[0].legend()\n",
        "\n",
        "ax[1].set_title(\"Trajectory error\")\n",
        "ax[1].plot(jnp.abs(-new_dataset['x'][:300, 0] + pred_tall[:300, 0]), label='Baseline', color='orange')\n",
        "ax[1].plot(jnp.abs(-new_dataset['x'][:300, 0] + pred_tall_lnn[:300, 0]), label='lnn', color='green')\n",
        "ax[1].set_ylabel('Error')\n",
        "ax[1].set_xlabel('Time')\n",
        "ax[1].legend()\n",
        "\n",
        "fig.tight_layout()"
      ],
      "metadata": {
        "colab": {
          "base_uri": "https://localhost:8080/",
          "height": 492
        },
        "id": "G95-gkVq2PMI",
        "outputId": "712639e9-4719-4b4a-bbb5-b6656dc4f9bf"
      },
      "execution_count": 37,
      "outputs": [
        {
          "output_type": "display_data",
          "data": {
            "text/plain": [
              "<Figure size 640x480 with 2 Axes>"
            ],
            "image/png": "[encoded data removed]"
          },
          "metadata": {}
        }
      ]
    },
    {
      "cell_type": "code",
      "source": [
        "max_t = 10\n",
        "en_new_dataset = new_get_dataset(jax.random.PRNGKey(2),\n",
        "                              t_span=[0, max_t],\n",
        "                              fps=10, test_split=1.0,\n",
        "                              unlimited_steps=False, energy=True)\n",
        "t = en_new_dataset['x'][0, :]\n",
        "tall = [jax.device_get(t)]\n",
        "p = get_params(opt_state)\n",
        "p_lnn = get_params_lnn(opt_state_lnn)\n",
        "\n",
        "en_pred_tall = jax.device_get(odeint(\n",
        "    partial(baseline_eom, learned_dynamics(p)),\n",
        "    t,\n",
        "    np.linspace(0, max_t, num=en_new_dataset['x'].shape[0])))\n",
        "\n",
        "max_t_lnn = 10\n",
        "\n",
        "en_pred_tall_lnn = jax.device_get(odeint(\n",
        "    partial(raw_lagrangian_eom, learned_dynamics_lnn(p_lnn)),\n",
        "    t,\n",
        "    np.linspace(0, max_t_lnn, num=en_new_dataset['x'].shape[0])))\n",
        "\n",
        "total_true_energy = (\n",
        "    jax.vmap(test_kinetic_energy,0,0)(en_new_dataset['x'][:]) + \\\n",
        "    jax.vmap(test_potential_energy,0,0)(en_new_dataset['x'][:])\n",
        ")\n",
        "total_predicted_energy = (\n",
        "    jax.vmap(test_kinetic_energy,0,0)(en_pred_tall[:]) + \\\n",
        "    jax.vmap(test_potential_energy,0,0)(en_pred_tall[:])\n",
        ")\n",
        "total_predicted_energy_lnn = (\n",
        "    jax.vmap(test_kinetic_energy,0,0)(en_pred_tall_lnn[:]) + \\\n",
        "    jax.vmap(test_potential_energy,0,0)(en_pred_tall_lnn[:])\n",
        ")\n",
        "scale=29.4\n",
        "\n",
        "# translation = jnp.min(total_true_energy) + 1\n",
        "# total_true_energy -= translation\n",
        "# total_predicted_energy -= translation\n",
        "\n",
        "#plt.plot(\n",
        "#    (total_predicted_energy-total_true_energy)/scale\n",
        "#)\n",
        "plt.plot(total_true_energy)\n",
        "plt.plot(total_predicted_energy)\n",
        "plt.plot(total_predicted_energy_lnn)\n",
        "\n",
        "plt.ylabel('Total Energy')\n",
        "plt.xlabel('Time')\n"
      ],
      "metadata": {
        "colab": {
          "base_uri": "https://localhost:8080/",
          "height": 466
        },
        "id": "lh91H24p2TG-",
        "outputId": "4f6e2f20-6cc9-4b77-b575-16d6f819d1dd"
      },
      "execution_count": 39,
      "outputs": [
        {
          "output_type": "execute_result",
          "data": {
            "text/plain": [
              "Text(0.5, 0, 'Time')"
            ]
          },
          "metadata": {},
          "execution_count": 39
        },
        {
          "output_type": "display_data",
          "data": {
            "text/plain": [
              "<Figure size 640x480 with 1 Axes>"
            ],
            "image/png": "[encoded data removed]"
          },
          "metadata": {}
        }
      ]
    }
  ]
}