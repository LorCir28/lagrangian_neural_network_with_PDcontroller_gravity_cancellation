{
  "cells": [
    {
      "cell_type": "markdown",
      "source": [
        "# Global"
      ],
      "metadata": {
        "id": "aSH3UDxeii7B"
      }
    },
    {
      "cell_type": "code",
      "source": [
        "try:\n",
        "    from google.colab import drive\n",
        "    drive.mount('/content/drive')\n",
        "    root_path = \"/content/drive/MyDrive/Robotics_2/\"\n",
        "except:\n",
        "    root_path = \"./\""
      ],
      "metadata": {
        "colab": {
          "base_uri": "https://localhost:8080/"
        },
        "id": "LWPpOnpEilLB",
        "outputId": "5d20e3ac-b30d-4afb-ad1a-cabafde73a98"
      },
      "execution_count": 2,
      "outputs": [
        {
          "output_type": "stream",
          "name": "stdout",
          "text": [
            "Drive already mounted at /content/drive; to attempt to forcibly remount, call drive.mount(\"/content/drive\", force_remount=True).\n"
          ]
        }
      ]
    },
    {
      "cell_type": "code",
      "source": [
        "global opt_update, get_params, nn_forward_fn\n",
        "global best_params, best_loss\n",
        "\n",
        "# Arguments encoder\n",
        "class ObjectView(object):\n",
        "    def __init__(self, d): self.__dict__ = d"
      ],
      "metadata": {
        "id": "_3ecLB7WYhVj"
      },
      "execution_count": 3,
      "outputs": []
    },
    {
      "cell_type": "markdown",
      "source": [
        "# Imports\n"
      ],
      "metadata": {
        "id": "TRL13vwkYwGq"
      }
    },
    {
      "cell_type": "code",
      "source": [
        "import argparse\n",
        "import jax\n",
        "import jax.numpy as jnp\n",
        "import matplotlib.pyplot as plt\n",
        "import numpy as np\n",
        "import pickle as pkl\n",
        "\n",
        "from copy import deepcopy as copy\n",
        "from functools import partial # reduces arguments to function by making some subset implicit\n",
        "from jax import jit\n",
        "from jax import random\n",
        "from jax.example_libraries import stax\n",
        "from jax.example_libraries.stax import serial, Dense, Softplus, Tanh, elementwise, Relu\n",
        "from jax.example_libraries import optimizers\n",
        "from jax.experimental.ode import odeint\n",
        "from jax.tree_util import tree_flatten\n",
        "from tqdm import tqdm"
      ],
      "metadata": {
        "id": "Ccyt5l_mYr6a"
      },
      "execution_count": 4,
      "outputs": []
    },
    {
      "cell_type": "markdown",
      "metadata": {
        "id": "4dlBAEyodLjY"
      },
      "source": [
        "# LNN"
      ]
    },
    {
      "cell_type": "code",
      "execution_count": 5,
      "metadata": {
        "id": "fFWTbEPCdFpQ"
      },
      "outputs": [],
      "source": [
        "def baseline_eom(baseline, state, t=None):\n",
        "    q, q_t = jnp.split(state, 2)\n",
        "    q = q % (2*jnp.pi)\n",
        "    q_tt = baseline(q, q_t)\n",
        "    return jnp.concatenate([q_tt])\n",
        "\n",
        "# unconstrained equation of motion\n",
        "def unconstrained_eom(model, state, t=None):\n",
        "  q, q_t = jnp.split(state, 2)\n",
        "  return model(q, q_t)\n",
        "\n",
        "# lagrangian equation of motion\n",
        "def lagrangian_eom(lagrangian, state, t=None):\n",
        "  q, q_t = jnp.split(state, 2)\n",
        "  #Note: the following line assumes q is an angle. Delete it for problems other than double pendulum.\n",
        "  q = q % (2*jnp.pi)\n",
        "  q_tt = (jnp.linalg.pinv(jax.hessian(lagrangian, 1)(q, q_t))\n",
        "          @ (jax.grad(lagrangian, 0)(q, q_t)\n",
        "             - jax.jacobian(jax.jacobian(lagrangian, 1), 0)(q, q_t) @ q_t))\n",
        "  dt = 1e-1\n",
        "  return dt*jnp.concatenate([q_t, q_tt])\n",
        "\n",
        "def raw_lagrangian_eom(lagrangian, state, t=None):\n",
        "  q, q_t = jnp.split(state, 2)\n",
        "  q = q % (2*jnp.pi)\n",
        "  q_tt = (jnp.linalg.pinv(jax.hessian(lagrangian, 1)(q, q_t))\n",
        "          @ (jax.grad(lagrangian, 0)(q, q_t)\n",
        "             - jax.jacobian(jax.jacobian(lagrangian, 1), 0)(q, q_t) @ q_t))\n",
        "  return jnp.concatenate([q_t, q_tt])\n",
        "\n",
        "def lagrangian_eom_rk4(lagrangian, state, n_updates, Dt=1e-1, t=None):\n",
        "    @jax.jit\n",
        "    def cur_fnc(state):\n",
        "        q, q_t = jnp.split(state, 2)\n",
        "        q = q % (2*jnp.pi)\n",
        "        q_tt = (jnp.linalg.pinv(jax.hessian(lagrangian, 1)(q, q_t))\n",
        "                 @ (jax.grad(lagrangian, 0)(q, q_t)\n",
        "                 - jax.jacobian(jax.jacobian(lagrangian, 1), 0)(q, q_t) @ q_t))\n",
        "        return jnp.concatenate([q_t, q_tt])\n",
        "\n",
        "    @jax.jit\n",
        "    def get_update(update):\n",
        "        dt = Dt/n_updates\n",
        "        cstate = state + update\n",
        "        k1 = dt*cur_fnc(cstate)\n",
        "        k2 = dt*cur_fnc(cstate + k1/2)\n",
        "        k3 = dt*cur_fnc(cstate + k2/2)\n",
        "        k4 = dt*cur_fnc(cstate + k3)\n",
        "        return update + 1.0/6.0 * (k1 + 2*k2 + 2*k3 + k4)\n",
        "\n",
        "    update = 0\n",
        "    for _ in range(n_updates):\n",
        "        update = get_update(update)\n",
        "    return update\n",
        "\n",
        "\n",
        "def solve_dynamics(dynamics_fn, initial_state, is_lagrangian=True, **kwargs):\n",
        "  eom = lagrangian_eom if is_lagrangian else unconstrained_eom\n",
        "\n",
        "  # We currently run odeint on CPUs only, because its cost is dominated by\n",
        "  # control flow, which is slow on GPUs.\n",
        "  @partial(jax.jit, backend='cpu')\n",
        "  def f(initial_state):\n",
        "    return odeint(partial(eom, dynamics_fn), initial_state, **kwargs)\n",
        "  return f(initial_state)\n",
        "\n",
        "\n",
        "def custom_init(init_params, seed=0):\n",
        "    \"\"\"Do an optimized LNN initialization for a simple uniform-width MLP\"\"\"\n",
        "    import numpy as np\n",
        "    new_params = []\n",
        "    rng = jax.random.PRNGKey(seed)\n",
        "    i = 0\n",
        "    number_layers = len([0 for l1 in init_params if len(l1) != 0])\n",
        "    for l1 in init_params:\n",
        "        if (len(l1)) == 0: new_params.append(()); continue\n",
        "        new_l1 = []\n",
        "        for l2 in l1:\n",
        "            if len(l2.shape) == 1:\n",
        "                #Zero init biases\n",
        "                new_l1.append(jnp.zeros_like(l2))\n",
        "            else:\n",
        "                n = max(l2.shape)\n",
        "                first = int(i == 0)\n",
        "                last = int(i == number_layers - 1)\n",
        "                mid = int((i != 0) * (i != number_layers - 1))\n",
        "                mid *= i\n",
        "\n",
        "                std = 1.0/np.sqrt(n)\n",
        "                std *= 2.2*first + 0.58*mid + n*last\n",
        "\n",
        "                if std == 0:\n",
        "                    raise NotImplementedError(\"Wrong dimensions for MLP\")\n",
        "\n",
        "                new_l1.append(jax.random.normal(rng, l2.shape)*std)\n",
        "                rng += 1\n",
        "                i += 1\n",
        "\n",
        "        new_params.append(new_l1)\n",
        "\n",
        "    return new_params"
      ]
    },
    {
      "cell_type": "markdown",
      "metadata": {
        "id": "-hTiSIu4d1Rc"
      },
      "source": [
        "# Utils"
      ]
    },
    {
      "cell_type": "code",
      "execution_count": 6,
      "metadata": {
        "id": "5D81fQLgdFW3"
      },
      "outputs": [],
      "source": [
        "def wrap_coords(state):\n",
        "  # wrap generalized coordinates to [-pi, pi]\n",
        "  return jnp.concatenate([(state[:2] + jnp.pi) % (2 * jnp.pi) - jnp.pi, state[2:]])\n",
        "\n",
        "def rk4_step(f, x, t, h):\n",
        "  # one step of Runge-Kutta integration\n",
        "  k1 = h * f(x, t)\n",
        "  k2 = h * f(x + k1/2, t + h/2)\n",
        "  k3 = h * f(x + k2/2, t + h/2)\n",
        "  k4 = h * f(x + k3, t + h)\n",
        "  return x + 1/6 * (k1 + 2 * k2 + 2 * k3 + k4)\n",
        "\n",
        "def radial2cartesian(t1, t2, l1, l2):\n",
        "  # Convert from radial to Cartesian coordinates.\n",
        "  x1 = l1 * jnp.sin(t1)\n",
        "  y1 = -l1 * jnp.cos(t1)\n",
        "  x2 = x1 + l2 * jnp.sin(t2)\n",
        "  y2 = y1 - l2 * jnp.cos(t2)\n",
        "  return x1, y1, x2, y2\n",
        "\n",
        "def write_to(data, path):\n",
        "  with open(path, 'wb') as f:\n",
        "    pkl.dump(data, f, protocol=pkl.HIGHEST_PROTOCOL)\n",
        "\n",
        "def read_from(path):\n",
        "  with open(path, 'rb') as f:\n",
        "    data = pkl.load(f)\n",
        "  return data\n",
        "\n",
        "def plot_loss(train_losses, test_losses):\n",
        "  fig, ax = plt.subplots(1, 1)\n",
        "  plt.title(\"Elastic baseline loss\")\n",
        "\n",
        "  ax.plot(train_losses, label='Train loss')\n",
        "  ax.plot(test_losses, label='Test loss')\n",
        "  ax.set_ylabel(\"Loss\")\n",
        "  ax.set_xlabel(\"Epochs\")\n",
        "  ax.legend()\n",
        "\n",
        "  fig.tight_layout()"
      ]
    },
    {
      "cell_type": "code",
      "execution_count": 6,
      "metadata": {
        "id": "6XRq_Upmcetp"
      },
      "outputs": [],
      "source": []
    },
    {
      "cell_type": "markdown",
      "metadata": {
        "id": "57OeKsfceAQT"
      },
      "source": [
        "# Physics"
      ]
    },
    {
      "cell_type": "code",
      "execution_count": 7,
      "metadata": {
        "id": "AGvdboD-eCfQ"
      },
      "outputs": [],
      "source": [
        "@jit\n",
        "def test_kinetic_energy(state, m1=1, m2=1, l1=1, l2=1, g=9.8, I=1, d1=1, Im=1):\n",
        "  q, q_dot = jnp.split(state, 2)\n",
        "  (t1, t2), (w1, w2) = q, q_dot\n",
        "\n",
        "  T1 = 0.5 * (I+m1*(d1**2)) * (w1**2)\n",
        "  T2 = 0.5 * Im * (w2**2)\n",
        "  T = T1 + T2\n",
        "  return T\n",
        "\n",
        "@jit\n",
        "def test_potential_energy(state, m1=1, m2=1, l1=1, l2=1, g=9.8,d1=1,k=1):\n",
        "  q, q_dot = jnp.split(state, 2)\n",
        "  (t1, t2), (w1, w2) = q, q_dot\n",
        "\n",
        "  Ug = m1*g*d1*jnp.sin(t1)\n",
        "  Ue = 0.5*k*((t1-t2)**2)\n",
        "  V = Ug+Ue\n",
        "  return V\n",
        "\n",
        "@jit\n",
        "def kinetic_energy(q, q_dot, m1=1, m2=1, l1=1, l2=1, g=9.8, I=1, d1=1, Im=1):\n",
        "  (t1, t2), (w1, w2) = q, q_dot\n",
        "\n",
        "  T1 = 0.5 * (I+m1*(d1**2)) * (w1**2)\n",
        "  T2 = 0.5 * Im * (w2**2)\n",
        "  T = T1 + T2\n",
        "  return T\n",
        "\n",
        "@jit\n",
        "def potential_energy(q, q_dot, m1=1, m2=1, l1=1, l2=1, g=9.8,d1=1,k=1):\n",
        "  (t1, t2), (w1, w2) = q, q_dot\n",
        "\n",
        "  Ug = m1*g*d1*jnp.sin(t1)\n",
        "  Ue = 0.5*k*((t1-t2)**2)\n",
        "  V = Ug+Ue\n",
        "  return V\n",
        "\n",
        "# Double pendulum lagrangian\n",
        "@jit\n",
        "def lagrangian_fn(q, q_dot, m1=1, m2=1, l1=1, l2=1, g=9.8):\n",
        "  (t1, t2), (w1, w2) = q, q_dot\n",
        "\n",
        "  T = kinetic_energy(q, q_dot, m1=1, m2=1, l1=1, l2=1, g=9.8)\n",
        "  V = potential_energy(q, q_dot, m1=1, m2=1, l1=1, l2=1, g=9.8)\n",
        "  return T - V\n",
        "\n",
        "# Double pendulum lagrangian\n",
        "@jit\n",
        "def hamiltonian_fn(q, q_dot, m1=1, m2=1, l1=0.3, l2=1, g=9.8):\n",
        "  (t1, t2), (w1, w2) = q, q_dot\n",
        "\n",
        "  T = kinetic_energy(q, q_dot, m1=1, m2=1, l1=1, l2=1, g=9.8)\n",
        "  V = potential_energy(q, q_dot, m1=1, m2=1, l1=1, l2=1, g=9.8)\n",
        "  return T + V\n",
        "\n",
        "# Double pendulum dynamics via analytical forces taken from Diego's blog\n",
        "@jit\n",
        "def analytical_fn(state, t=0, m1=1, m2=1, l1=1, l2=1, g=9.8,d1=1,I=1,Im=1,k=1):\n",
        "  q, q_dot = jnp.split(state, 2)\n",
        "  (t1, t2), (w1, w2) = q, q_dot\n",
        "  a1 = 0\n",
        "  a2 = 0\n",
        "  f1 = (-m1*g*d1*jnp.cos(t1)+k*(t1-t2))/(I+m1*(d1**2))\n",
        "  f2 = k*(t1-t2)/Im\n",
        "  g1 = f1\n",
        "  g2 = f2\n",
        "  return jnp.stack([w1, w2, g1, g2])"
      ]
    },
    {
      "cell_type": "markdown",
      "metadata": {
        "id": "ww1DfR68db4y"
      },
      "source": [
        "# Data"
      ]
    },
    {
      "cell_type": "code",
      "execution_count": 9,
      "metadata": {
        "id": "6sOyFVymdFhu"
      },
      "outputs": [],
      "source": [
        "@partial(jax.jit, backend='cpu')\n",
        "def get_trajectory(y0, times, use_lagrangian=False, **kwargs):\n",
        "  # frames = int(fps*(t_span[1]-t_span[0]))\n",
        "  # times = jnp.linspace(t_span[0], t_span[1], frames)\n",
        "  # y0 = np.array([3*np.pi/7, 3*np.pi/4, 0, 0], dtype=np.float32)\n",
        "  if use_lagrangian:\n",
        "    y = solve_dynamics(lagrangian_fn, y0, t=times, is_lagrangian=True, rtol=1e-10, atol=1e-10, **kwargs)\n",
        "  else:\n",
        "    y = odeint(analytical_fn, y0, t=times, rtol=1e-10, atol=1e-10, **kwargs)\n",
        "  return y\n",
        "\n",
        "@partial(jax.jit, backend='cpu')\n",
        "def get_trajectory_lagrangian(y0, times, **kwargs):\n",
        "  return solve_dynamics(lagrangian_fn, y0, t=times, is_lagrangian=True, rtol=1e-10, atol=1e-10, **kwargs)\n",
        "\n",
        "@partial(jax.jit, backend='cpu')\n",
        "def get_trajectory_analytic(y0, times, **kwargs):\n",
        "    return odeint(analytical_fn, y0, t=times, rtol=1e-10, atol=1e-10, **kwargs)\n",
        "\n",
        "vfnc = jax.jit(jax.vmap(analytical_fn))\n",
        "vget = partial(jax.jit, backend='cpu')(jax.vmap(partial(get_trajectory_analytic, mxsteps=100), (0, None), 0))\n",
        "vget_unlimited = partial(jax.jit, backend='cpu')(jax.vmap(partial(get_trajectory_lagrangian), (0, None), 0))\n",
        "\n",
        "def new_get_dataset(rng, samples=1, t_span=[0, 10], fps=100, test_split=0.5, lookahead=1,\n",
        "                    unlimited_steps=False, **kwargs):\n",
        "    data = {'meta': locals()}\n",
        "\n",
        "    # randomly sample inputs\n",
        "\n",
        "    frames = int(fps*(t_span[1]-t_span[0]))\n",
        "    times = jnp.linspace(t_span[0], t_span[1], frames)\n",
        "    y0 = jnp.concatenate([\n",
        "        jax.random.uniform(rng, (samples, 2))*2.0*np.pi,\n",
        "        jax.random.uniform(rng+1, (samples, 2))*0.1\n",
        "    ], axis=1)\n",
        "\n",
        "    if unlimited_steps:\n",
        "        y = vget(y0, times)\n",
        "    else:\n",
        "        y = vget_unlimited(y0, times)\n",
        "\n",
        "    #This messes it up!\n",
        "#     y = np.concatenate(((y[..., :2]%(2*np.pi)) - np.pi, y[..., 2:]), axis=2)\n",
        "\n",
        "    data['x'] = y[:, :-lookahead]\n",
        "    data['dx'] = y[:, lookahead:] - data['x']\n",
        "    data['x'] = jnp.concatenate(data['x'])\n",
        "    data['dx'] = jnp.concatenate(data['dx'])\n",
        "    data['t'] = jnp.tile(times[:-lookahead], (samples,))\n",
        "\n",
        "    # make a train/test split\n",
        "    split_ix = int(len(data['x']) * test_split)\n",
        "    split_data = {}\n",
        "    for k in ['x', 'dx', 't']:\n",
        "        split_data[k], split_data['test_' + k] = data[k][:split_ix], data[k][split_ix:]\n",
        "    data = split_data\n",
        "    return data"
      ]
    },
    {
      "cell_type": "markdown",
      "metadata": {
        "id": "umAM16BueXwf"
      },
      "source": [
        "# Models"
      ]
    },
    {
      "cell_type": "code",
      "execution_count": 8,
      "metadata": {
        "id": "fpIG9arWeaki"
      },
      "outputs": [],
      "source": [
        "sigmoid = jit(lambda x: 1/(1+jnp.exp(-x)))\n",
        "swish = jit(lambda x: x/(1+jnp.exp(-x)))\n",
        "relu3 = jit(lambda x: jnp.clip(x, 0.0, float('inf'))**3)\n",
        "Swish = elementwise(swish)\n",
        "Relu3 = elementwise(relu3)\n",
        "\n",
        "def extended_mlp(args):\n",
        "    act = {\n",
        "        'softplus': [Softplus, Softplus],\n",
        "        'swish': [Swish, Swish],\n",
        "        'tanh': [Tanh, Tanh],\n",
        "        'tanh_relu': [Tanh, Relu],\n",
        "        'soft_relu': [Softplus, Relu],\n",
        "        'relu_relu': [Relu, Relu],\n",
        "        'relu_relu3': [Relu, Relu3],\n",
        "        'relu3_relu': [Relu3, Relu],\n",
        "        'relu_tanh': [Relu, Tanh],\n",
        "    }[args.act]\n",
        "    hidden = args.hidden_dim\n",
        "    output_dim = args.output_dim\n",
        "    nlayers = args.layers\n",
        "\n",
        "    layers = []\n",
        "    layers.extend([\n",
        "        Dense(hidden),\n",
        "        act[0]\n",
        "    ])\n",
        "    for _ in range(nlayers - 1):\n",
        "        layers.extend([\n",
        "            Dense(hidden),\n",
        "            act[1]\n",
        "        ])\n",
        "\n",
        "    layers.extend([Dense(output_dim)])\n",
        "\n",
        "    return stax.serial(*layers)"
      ]
    },
    {
      "cell_type": "markdown",
      "source": [
        "# Loss"
      ],
      "metadata": {
        "id": "hZ-1UWkhZUGU"
      }
    },
    {
      "cell_type": "code",
      "source": [
        "def learned_dynamics(params):\n",
        "  @jit\n",
        "  def dynamics(q, q_t):\n",
        "#     assert q.shape == (2,)\n",
        "    state = wrap_coords(jnp.concatenate([q, q_t]))\n",
        "    return nn_forward_fn(params, state)\n",
        "  return dynamics\n",
        "\n",
        "def make_loss(args):\n",
        "    if args.loss == 'lnn':\n",
        "        @jax.jit\n",
        "        def gln_loss(params, batch, l2reg):\n",
        "            state, targets = batch#_rk4\n",
        "            leaves, _ = tree_flatten(params)\n",
        "            l2_norm = sum(jnp.vdot(param, param) for param in leaves)\n",
        "            preds = jax.vmap(partial(lagrangian_eom_rk4, learned_dynamics(params), Dt=args.dt, n_updates=args.n_updates))(state)\n",
        "            return jnp.sum(jnp.abs(preds - targets)) + l2reg*l2_norm/args.batch_size\n",
        "\n",
        "    else:\n",
        "        @jax.jit\n",
        "        def gln_loss(params, batch, l2reg):\n",
        "          state, targets = batch#_rk4\n",
        "          leaves, _ = tree_flatten(params)\n",
        "          l2_norm = sum(jnp.vdot(param, param) for param in leaves)\n",
        "          preds = jax.vmap(\n",
        "          partial(baseline_eom,learned_dynamics(params)))(state)\n",
        "          return jnp.sum(jnp.abs(preds - targets)) + l2reg*l2_norm/args.batch_size\n",
        "\n",
        "\n",
        "    return gln_loss"
      ],
      "metadata": {
        "id": "805HtAxMZTQ4"
      },
      "execution_count": 10,
      "outputs": []
    },
    {
      "cell_type": "markdown",
      "source": [
        "# Test"
      ],
      "metadata": {
        "id": "8ZU4PL0wCbNq"
      }
    },
    {
      "cell_type": "code",
      "source": [
        "def test_args():\n",
        "  global opt_update, get_params, nn_forward_fn\n",
        "  #baseline_loaded = pkl.load(open('/content/drive/MyDrive/Robotics_2/1R_elastic_vertical/def_baseline_nn_elastic_params.pkl', 'rb'))\n",
        "  #args = baseline_loaded['args']\n",
        "  #best_params = baseline_loaded['params']\n",
        "  #opt_init, opt_update, get_params  = optimizers.adam(args.lr)\n",
        "  #opt_state = opt_init(best_params)\n",
        "\n",
        "\n",
        "\n",
        "  max_t = 10\n",
        "  # new_dataset = get_dataset(jax.random.PRNGKey(2),\n",
        "  #                             t_span=[0, max_t],\n",
        "  #                             fps=10, test_split=1.0)\n",
        "  new_dataset = new_get_dataset(jax.random.PRNGKey(2),\n",
        "                              t_span=[0, max_t],\n",
        "                              fps=10, test_split=1.0,\n",
        "                              unlimited_steps=False)\n",
        "\n",
        "  # print(\"--------------------------------\",new_dataset['x'].shape)\n",
        "\n",
        "  t = new_dataset['x'][0, :]\n",
        "  tall = [jax.device_get(t)]\n",
        "  #p = get_params(opt_state)\n",
        "\n",
        "  #init_random_params, nn_forward_fn = extended_mlp(args)\n",
        "\n",
        "  # pred_tall_baseline = jax.device_get(odeint(\n",
        "  #   partial(baseline_eom, learned_dynamics(p)),\n",
        "  #   t,\n",
        "  #   np.linspace(0, max_t, num=new_dataset['x'].shape[0])))\n",
        "\n",
        "  # pred_tall_lnn = np.load('/content/drive/MyDrive/Robotics_2/1R_rigid_vertical/lnn_1R_prediction.npy')\n",
        "  # lnn_energy = np.load('/content/drive/MyDrive/Robotics_2/1R_rigid_vertical/lnn_energy.npy')\n",
        "\n",
        "  # total_predicted_energy_lnn = (\n",
        "  #     jax.vmap(test_kinetic_energy)(pred_tall_lnn[:]) + \\\n",
        "  #     jax.vmap(test_potential_energy)(pred_tall_lnn[:])\n",
        "  # )\n",
        "\n",
        "  total_true_energy = (\n",
        "      jax.vmap(test_kinetic_energy)(new_dataset['x'][:]) + \\\n",
        "      jax.vmap(test_potential_energy)(new_dataset['x'][:])\n",
        "  )\n",
        "\n",
        "  # total_predicted_energy_baseline = (\n",
        "  #     jax.vmap(test_kinetic_energy)(pred_tall_baseline[:]) + \\\n",
        "  #     jax.vmap(test_potential_energy)(pred_tall_baseline[:])\n",
        "  # )\n",
        "\n",
        "\n",
        "  # plots\n",
        "  tall = np.array(tall)\n",
        "  fig, ax = plt.subplots(3, 1)\n",
        "\n",
        "\n",
        "  # TRAJECTORY PLOT\n",
        "\n",
        "  ax[0].plot(new_dataset['x'][:300, 0], label='Measure', color='blue')\n",
        "  # ax[0].plot(pred_tall_baseline[:100, 0], label='baseline', color='orange')\n",
        "  # ax[0].plot(pred_tall_lnn[:100, 0], label='lnn', color='green')\n",
        "  ax[0].set_ylabel(r'$\\theta_1$')\n",
        "  ax[0].set_xlabel('Time')\n",
        "  ax[0].legend()\n",
        "\n",
        "\n",
        "  # ERROR PLOT\n",
        "\n",
        "  # ax[1].plot(jnp.abs(-new_dataset['x'][:100, 0] + pred_tall_baseline[:100, 0]), color='orange', label='baseline')\n",
        "  # ax[1].plot(jnp.abs(-new_dataset['x'][:100, 0] + pred_tall_lnn[:100, 0]), color='green', label='lnn')\n",
        "  ax[1].set_ylabel('Error')\n",
        "  ax[1].set_xlabel('Time')\n",
        "  ax[1].legend()\n",
        "\n",
        "\n",
        "  # ENERGY PLOT\n",
        "\n",
        "  # ax[2].plot((total_predicted_energy_lnn),label='LNN', color='green')\n",
        "  ax[2].plot((total_true_energy),label='Measure', color='blue')\n",
        "  # ax[2].plot((total_predicted_energy_baseline),label='Baseline', color='orange')\n",
        "  # ax[2].set_ylim([0,15])\n",
        "  ax[2].set_ylabel('Total Energy')\n",
        "  ax[2].set_xlabel('Time')\n",
        "  ax[2].legend()\n",
        "\n",
        "\n",
        "  fig.tight_layout()\n",
        "\n",
        "test_args()"
      ],
      "metadata": {
        "colab": {
          "base_uri": "https://localhost:8080/",
          "height": 522
        },
        "id": "Xwr9g0gW8zbi",
        "outputId": "15fb3772-d0ca-460b-8ca0-f539b7602b58"
      },
      "execution_count": 11,
      "outputs": [
        {
          "output_type": "stream",
          "name": "stderr",
          "text": [
            "WARNING:jax._src.xla_bridge:No GPU/TPU found, falling back to CPU. (Set TF_CPP_MIN_LOG_LEVEL=0 and rerun for more info.)\n",
            "WARNING:matplotlib.legend:No artists with labels found to put in legend.  Note that artists whose label start with an underscore are ignored when legend() is called with no argument.\n"
          ]
        },
        {
          "output_type": "display_data",
          "data": {
            "text/plain": [
              "<Figure size 640x480 with 3 Axes>"
            ],
            "image/png": "[encoded data removed]"
          },
          "metadata": {}
        }
      ]
    }
  ],
  "metadata": {
    "colab": {
      "collapsed_sections": [
        "aSH3UDxeii7B",
        "TRL13vwkYwGq",
        "4dlBAEyodLjY",
        "-hTiSIu4d1Rc",
        "umAM16BueXwf",
        "hZ-1UWkhZUGU"
      ],
      "provenance": [],
      "machine_shape": "hm",
      "gpuType": "T4"
    },
    "kernelspec": {
      "display_name": "Python 3",
      "name": "python3"
    },
    "language_info": {
      "name": "python"
    }
  },
  "nbformat": 4,
  "nbformat_minor": 0
}