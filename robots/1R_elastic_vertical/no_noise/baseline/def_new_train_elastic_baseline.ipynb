{
  "cells": [
    {
      "cell_type": "markdown",
      "metadata": {
        "id": "aSH3UDxeii7B"
      },
      "source": [
        "# Global"
      ]
    },
    {
      "cell_type": "code",
      "execution_count": 1,
      "metadata": {
        "colab": {
          "base_uri": "https://localhost:8080/"
        },
        "id": "az7RuXJVRjtd",
        "outputId": "383267cd-b805-48a5-acee-4981098154d1"
      },
      "outputs": [
        {
          "output_type": "stream",
          "name": "stdout",
          "text": [
            "Mounted at /content/drive\n"
          ]
        }
      ],
      "source": [
        "try:\n",
        "    from google.colab import drive\n",
        "    drive.mount('/content/drive')\n",
        "    root_path = \"/content/drive/MyDrive/Robotics_2/\"\n",
        "except:\n",
        "    root_path = \"./\""
      ]
    },
    {
      "cell_type": "code",
      "execution_count": 2,
      "metadata": {
        "id": "Xmwsl7kjRjtf"
      },
      "outputs": [],
      "source": [
        "global opt_update, get_params, nn_forward_fn\n",
        "global best_params, best_loss\n",
        "\n",
        "# Arguments encoder\n",
        "class ObjectView(object):\n",
        "    def __init__(self, d): self.__dict__ = d\n",
        "\n",
        "args = ObjectView(dict(\n",
        "    num_epochs=10000, #100,40000\n",
        "    #loss='lnn',\n",
        "    loss='baseline_nn',\n",
        "    l2reg=1e-6,\n",
        "    act='softplus',\n",
        "    hidden_dim=500,\n",
        "    output_dim=1,\n",
        "    dt=1e-1,\n",
        "    layers=2,\n",
        "    lr=1e-3*0.5,\n",
        "    lr2=1e-4*0.5,\n",
        "    model='gln',\n",
        "    n_updates=3,\n",
        "    batch_size=32,\n",
        "    fps=10,\n",
        "    dataset_size=100,\n",
        "    samples=50,\n",
        "))"
      ]
    },
    {
      "cell_type": "markdown",
      "metadata": {
        "id": "jxyzqMB2Rjtf"
      },
      "source": [
        "# Imports"
      ]
    },
    {
      "cell_type": "code",
      "execution_count": 3,
      "metadata": {
        "id": "ifv20rD0Rjtg"
      },
      "outputs": [],
      "source": [
        "import argparse\n",
        "import jax\n",
        "import jax.numpy as jnp\n",
        "import matplotlib.pyplot as plt\n",
        "import numpy as np\n",
        "import pickle as pkl\n",
        "\n",
        "from copy import deepcopy as copy\n",
        "from functools import partial # reduces arguments to function by making some subset implicit\n",
        "from jax import jit\n",
        "from jax import random\n",
        "from jax.example_libraries import stax\n",
        "from jax.example_libraries.stax import serial, Dense, Softplus, Tanh, elementwise, Relu\n",
        "from jax.example_libraries import optimizers\n",
        "from jax.experimental.ode import odeint\n",
        "from jax.tree_util import tree_flatten\n",
        "from tqdm import tqdm"
      ]
    },
    {
      "cell_type": "markdown",
      "metadata": {
        "id": "-hTiSIu4d1Rc"
      },
      "source": [
        "# Utils"
      ]
    },
    {
      "cell_type": "code",
      "execution_count": 4,
      "metadata": {
        "id": "5D81fQLgdFW3"
      },
      "outputs": [],
      "source": [
        "def wrap_coords(state):\n",
        "  # wrap generalized coordinates to [-pi, pi]\n",
        "  return jnp.concatenate([(state[:2] + jnp.pi) % (2 * jnp.pi) - jnp.pi, state[2:]])\n",
        "\n",
        "def rk4_step(f, x, t, h):\n",
        "  # one step of Runge-Kutta integration\n",
        "  k1 = h * f(x, t)\n",
        "  k2 = h * f(x + k1/2, t + h/2)\n",
        "  k3 = h * f(x + k2/2, t + h/2)\n",
        "  k4 = h * f(x + k3, t + h)\n",
        "  return x + 1/6 * (k1 + 2 * k2 + 2 * k3 + k4)\n",
        "\n",
        "def radial2cartesian(t1, t2, l1, l2):\n",
        "  # Convert from radial to Cartesian coordinates.\n",
        "  x1 = l1 * jnp.sin(t1)\n",
        "  y1 = -l1 * jnp.cos(t1)\n",
        "  x2 = x1 + l2 * jnp.sin(t2)\n",
        "  y2 = y1 - l2 * jnp.cos(t2)\n",
        "  return x1, y1, x2, y2\n",
        "\n",
        "def write_to(data, path):\n",
        "  with open(path, 'wb') as f:\n",
        "    pkl.dump(data, f, protocol=pkl.HIGHEST_PROTOCOL)\n",
        "\n",
        "def read_from(path):\n",
        "  with open(path, 'rb') as f:\n",
        "    data = pkl.load(f)\n",
        "  return data\n",
        "\n",
        "def plot_loss(train_losses, test_losses):\n",
        "  fig, ax = plt.subplots(1, 1)\n",
        "  plt.title(\"Elastic baseline loss\")\n",
        "\n",
        "  ax.plot(train_losses, label='Train loss')\n",
        "  ax.plot(test_losses, label='Test loss')\n",
        "  ax.set_ylabel(\"Loss\")\n",
        "  ax.set_xlabel(\"Epochs\")\n",
        "  ax.legend()\n",
        "\n",
        "  fig.tight_layout()"
      ]
    },
    {
      "cell_type": "markdown",
      "metadata": {
        "id": "4dlBAEyodLjY"
      },
      "source": [
        "# Lagrangian Dynamics"
      ]
    },
    {
      "cell_type": "code",
      "execution_count": 5,
      "metadata": {
        "id": "fFWTbEPCdFpQ"
      },
      "outputs": [],
      "source": [
        "def baseline_eom(baseline, state, t=None):\n",
        "    q, q_t = jnp.split(state, 2)\n",
        "    q = q % (2*jnp.pi)\n",
        "    q_tt = baseline(q, q_t)\n",
        "    return jnp.concatenate([q_tt])\n",
        "\n",
        "# unconstrained equation of motion\n",
        "def unconstrained_eom(model, state, t=None):\n",
        "  q, q_t = jnp.split(state, 2)\n",
        "  return model(q, q_t)\n",
        "\n",
        "# lagrangian equation of motion\n",
        "def lagrangian_eom(lagrangian, state, t=None):\n",
        "  q, q_t = jnp.split(state, 2)\n",
        "  #Note: the following line assumes q is an angle. Delete it for problems other than double pendulum.\n",
        "  q = q % (2*jnp.pi)\n",
        "  q_tt = (jnp.linalg.pinv(jax.hessian(lagrangian, 1)(q, q_t))\n",
        "          @ (jax.grad(lagrangian, 0)(q, q_t)\n",
        "             - jax.jacobian(jax.jacobian(lagrangian, 1), 0)(q, q_t) @ q_t))\n",
        "  dt = 1e-1\n",
        "  return dt*jnp.concatenate([q_t, q_tt])\n",
        "\n",
        "def raw_lagrangian_eom(lagrangian, state, t=None):\n",
        "  q, q_t = jnp.split(state, 2)\n",
        "  q = q % (2*jnp.pi)\n",
        "  q_tt = (jnp.linalg.pinv(jax.hessian(lagrangian, 1)(q, q_t))\n",
        "          @ (jax.grad(lagrangian, 0)(q, q_t)\n",
        "             - jax.jacobian(jax.jacobian(lagrangian, 1), 0)(q, q_t) @ q_t))\n",
        "  return jnp.concatenate([q_t, q_tt])\n",
        "\n",
        "def lagrangian_eom_rk4(lagrangian, state, n_updates, Dt=1e-1, t=None):\n",
        "    @jax.jit\n",
        "    def cur_fnc(state):\n",
        "        q, q_t = jnp.split(state, 2)\n",
        "        q = q % (2*jnp.pi)\n",
        "        q_tt = (jnp.linalg.pinv(jax.hessian(lagrangian, 1)(q, q_t))\n",
        "                 @ (jax.grad(lagrangian, 0)(q, q_t)\n",
        "                 - jax.jacobian(jax.jacobian(lagrangian, 1), 0)(q, q_t) @ q_t))\n",
        "        return jnp.concatenate([q_t, q_tt])\n",
        "\n",
        "    @jax.jit\n",
        "    def get_update(update):\n",
        "        dt = Dt/n_updates\n",
        "        cstate = state + update\n",
        "        k1 = dt*cur_fnc(cstate)\n",
        "        k2 = dt*cur_fnc(cstate + k1/2)\n",
        "        k3 = dt*cur_fnc(cstate + k2/2)\n",
        "        k4 = dt*cur_fnc(cstate + k3)\n",
        "        return update + 1.0/6.0 * (k1 + 2*k2 + 2*k3 + k4)\n",
        "\n",
        "    update = 0\n",
        "    for _ in range(n_updates):\n",
        "        update = get_update(update)\n",
        "    return update\n",
        "\n",
        "\n",
        "def solve_dynamics(dynamics_fn, initial_state, is_lagrangian=True, **kwargs):\n",
        "  eom = lagrangian_eom if is_lagrangian else unconstrained_eom\n",
        "\n",
        "  # We currently run odeint on CPUs only, because its cost is dominated by\n",
        "  # control flow, which is slow on GPUs.\n",
        "  @partial(jax.jit, backend='cpu')\n",
        "  def f(initial_state):\n",
        "    return odeint(partial(eom, dynamics_fn), initial_state, **kwargs)\n",
        "  return f(initial_state)\n",
        "\n",
        "\n",
        "def custom_init(init_params, seed=0):\n",
        "    \"\"\"Do an optimized LNN initialization for a simple uniform-width MLP\"\"\"\n",
        "    import numpy as np\n",
        "    new_params = []\n",
        "    rng = jax.random.PRNGKey(seed)\n",
        "    i = 0\n",
        "    number_layers = len([0 for l1 in init_params if len(l1) != 0])\n",
        "    for l1 in init_params:\n",
        "        if (len(l1)) == 0: new_params.append(()); continue\n",
        "        new_l1 = []\n",
        "        for l2 in l1:\n",
        "            if len(l2.shape) == 1:\n",
        "                #Zero init biases\n",
        "                new_l1.append(jnp.zeros_like(l2))\n",
        "            else:\n",
        "                n = max(l2.shape)\n",
        "                first = int(i == 0)\n",
        "                last = int(i == number_layers - 1)\n",
        "                mid = int((i != 0) * (i != number_layers - 1))\n",
        "                mid *= i\n",
        "\n",
        "                std = 1.0/np.sqrt(n)\n",
        "                std *= 2.2*first + 0.58*mid + n*last\n",
        "\n",
        "                if std == 0:\n",
        "                    raise NotImplementedError(\"Wrong dimensions for MLP\")\n",
        "\n",
        "                new_l1.append(jax.random.normal(rng, l2.shape)*std)\n",
        "                rng += 1\n",
        "                i += 1\n",
        "\n",
        "        new_params.append(new_l1)\n",
        "\n",
        "    return new_params"
      ]
    },
    {
      "cell_type": "markdown",
      "metadata": {
        "id": "57OeKsfceAQT"
      },
      "source": [
        "# Physics"
      ]
    },
    {
      "cell_type": "code",
      "execution_count": 6,
      "metadata": {
        "id": "AGvdboD-eCfQ"
      },
      "outputs": [],
      "source": [
        "@jit\n",
        "def kinetic_energy(q, q_dot, m1=1, m2=1, l1=1, l2=1, g=9.8, I=1, d1=1, Im=1):\n",
        "  (t1, t2), (w1, w2) = q, q_dot\n",
        "\n",
        "  T1 = 0.5 * (I+m1*(d1**2)) * (w1**2)\n",
        "  T2 = 0.5 * Im * (w2**2)\n",
        "  T = T1 + T2\n",
        "  return T\n",
        "\n",
        "@jit\n",
        "def potential_energy(q, q_dot, m1=1, m2=1, l1=1, l2=1, g=9.8,d1=1,k=1):\n",
        "  (t1, t2), (w1, w2) = q, q_dot\n",
        "\n",
        "  Ug = m1*g*d1*jnp.sin(t1)\n",
        "  Ue = 0.5*k*((t1-t2)**2)\n",
        "  V = Ug+Ue\n",
        "  return V\n",
        "\n",
        "# Double pendulum lagrangian\n",
        "@jit\n",
        "def lagrangian_fn(q, q_dot, m1=1, m2=1, l1=1, l2=1, g=9.8):\n",
        "  (t1, t2), (w1, w2) = q, q_dot\n",
        "\n",
        "  T = kinetic_energy(q, q_dot, m1=1, m2=1, l1=1, l2=1, g=9.8)\n",
        "  V = potential_energy(q, q_dot, m1=1, m2=1, l1=1, l2=1, g=9.8)\n",
        "  return T - V\n",
        "\n",
        "# Double pendulum lagrangian\n",
        "@jit\n",
        "def hamiltonian_fn(q, q_dot, m1=1, m2=1, l1=0.3, l2=1, g=9.8):\n",
        "  (t1, t2), (w1, w2) = q, q_dot\n",
        "\n",
        "  T = kinetic_energy(q, q_dot, m1=1, m2=1, l1=1, l2=1, g=9.8)\n",
        "  V = potential_energy(q, q_dot, m1=1, m2=1, l1=1, l2=1, g=9.8)\n",
        "  return T + V\n",
        "\n",
        "\n",
        "# Double pendulum dynamics via analytical forces taken from Diego's blog\n",
        "@jit\n",
        "def analytical_fn(state, t=0, m1=1, m2=1, l1=1, l2=1, g=9.8,d1=1,I=1,Im=1,k=1):\n",
        "  t1, t2, w1, w2 = state\n",
        "  a1 = 0\n",
        "  a2 = 0\n",
        "  f1 = (-m1*g*d1*jnp.cos(t1)+k*(t1-t2))/(I+m1*(d1**2))\n",
        "  f2 = k*(t1-t2)/Im\n",
        "  g1 = f1\n",
        "  g2 = f2\n",
        "  return jnp.stack([w1, w2, g1, g2])"
      ]
    },
    {
      "cell_type": "markdown",
      "metadata": {
        "id": "ww1DfR68db4y"
      },
      "source": [
        "# Data"
      ]
    },
    {
      "cell_type": "code",
      "execution_count": 7,
      "metadata": {
        "id": "6sOyFVymdFhu"
      },
      "outputs": [],
      "source": [
        "@partial(jax.jit, backend='cpu')\n",
        "def get_trajectory(y0, times, use_lagrangian=False, **kwargs):\n",
        "  # frames = int(fps*(t_span[1]-t_span[0]))\n",
        "  # times = jnp.linspace(t_span[0], t_span[1], frames)\n",
        "  # y0 = np.array([3*np.pi/7, 3*np.pi/4, 0, 0], dtype=np.float32)\n",
        "  if use_lagrangian:\n",
        "    y = solve_dynamics(lagrangian_fn, y0, t=times, is_lagrangian=True, rtol=1e-10, atol=1e-10, **kwargs)\n",
        "  else:\n",
        "    y = odeint(analytical_fn, y0, t=times, rtol=1e-10, atol=1e-10, **kwargs)\n",
        "  return y\n",
        "\n",
        "@partial(jax.jit, backend='cpu')\n",
        "def get_trajectory_lagrangian(y0, times, **kwargs):\n",
        "  return solve_dynamics(lagrangian_fn, y0, t=times, is_lagrangian=True, rtol=1e-10, atol=1e-10, **kwargs)\n",
        "\n",
        "@partial(jax.jit, backend='cpu')\n",
        "def get_trajectory_analytic(y0, times, **kwargs):\n",
        "    return odeint(analytical_fn, y0, t=times, rtol=1e-10, atol=1e-10, **kwargs)\n",
        "\n",
        "vfnc = jax.jit(jax.vmap(analytical_fn))\n",
        "vget = partial(jax.jit, backend='cpu')(jax.vmap(partial(get_trajectory_analytic, mxsteps=100), (0, None), 0))\n",
        "vget_unlimited = partial(jax.jit, backend='cpu')(jax.vmap(partial(get_trajectory_analytic), (0, None), 0))\n",
        "\n",
        "def new_get_dataset(rng, samples=1, t_span=[0, 10], fps=100, test_split=0.5, lookahead=1,\n",
        "                    unlimited_steps=False, **kwargs):\n",
        "    data = {'meta': locals()}\n",
        "\n",
        "    # randomly sample inputs\n",
        "\n",
        "    frames = int(fps*(t_span[1]-t_span[0]))\n",
        "    times = jnp.linspace(t_span[0], t_span[1], frames)\n",
        "    y0 = jnp.concatenate([\n",
        "        jax.random.uniform(rng, (samples, 2))*2.0*np.pi,\n",
        "        jax.random.uniform(rng+1, (samples, 2))*0.1\n",
        "    ], axis=1)\n",
        "\n",
        "    if unlimited_steps:\n",
        "        y = vget(y0, times)\n",
        "    else:\n",
        "        y = vget_unlimited(y0, times)\n",
        "\n",
        "    #This messes it up!\n",
        "#     y = np.concatenate(((y[..., :2]%(2*np.pi)) - np.pi, y[..., 2:]), axis=2)\n",
        "\n",
        "    data['x'] = y[:, :-lookahead]\n",
        "    data['dx'] = y[:, lookahead:] - data['x']\n",
        "    data['x'] = jnp.concatenate(data['x'])\n",
        "    data['dx'] = jnp.concatenate(data['dx'])\n",
        "    data['t'] = jnp.tile(times[:-lookahead], (samples,))\n",
        "\n",
        "    # make a train/test split\n",
        "    split_ix = int(len(data['x']) * test_split)\n",
        "    split_data = {}\n",
        "    for k in ['x', 'dx', 't']:\n",
        "        split_data[k], split_data['test_' + k] = data[k][:split_ix], data[k][split_ix:]\n",
        "    data = split_data\n",
        "    return data"
      ]
    },
    {
      "cell_type": "markdown",
      "metadata": {
        "id": "umAM16BueXwf"
      },
      "source": [
        "# Models"
      ]
    },
    {
      "cell_type": "code",
      "execution_count": 8,
      "metadata": {
        "id": "fpIG9arWeaki"
      },
      "outputs": [],
      "source": [
        "sigmoid = jit(lambda x: 1/(1+jnp.exp(-x)))\n",
        "swish = jit(lambda x: x/(1+jnp.exp(-x)))\n",
        "relu3 = jit(lambda x: jnp.clip(x, 0.0, float('inf'))**3)\n",
        "Swish = elementwise(swish)\n",
        "Relu3 = elementwise(relu3)\n",
        "\n",
        "def extended_mlp(args):\n",
        "    act = {\n",
        "        'softplus': [Softplus, Softplus],\n",
        "        'swish': [Swish, Swish],\n",
        "        'tanh': [Tanh, Tanh],\n",
        "        'tanh_relu': [Tanh, Relu],\n",
        "        'soft_relu': [Softplus, Relu],\n",
        "        'relu_relu': [Relu, Relu],\n",
        "        'relu_relu3': [Relu, Relu3],\n",
        "        'relu3_relu': [Relu3, Relu],\n",
        "        'relu_tanh': [Relu, Tanh],\n",
        "    }[args.act]\n",
        "    hidden = args.hidden_dim\n",
        "    output_dim = args.output_dim\n",
        "    nlayers = args.layers\n",
        "\n",
        "    layers = []\n",
        "    layers.extend([\n",
        "        Dense(hidden),\n",
        "        act[0]\n",
        "    ])\n",
        "    for _ in range(nlayers - 1):\n",
        "        layers.extend([\n",
        "            Dense(hidden),\n",
        "            act[1]\n",
        "        ])\n",
        "\n",
        "    layers.extend([Dense(output_dim)])\n",
        "\n",
        "    return stax.serial(*layers)"
      ]
    },
    {
      "cell_type": "markdown",
      "metadata": {
        "id": "HlJGaUq9Rjtl"
      },
      "source": [
        "# Loss"
      ]
    },
    {
      "cell_type": "code",
      "execution_count": 9,
      "metadata": {
        "id": "r1X3gQFMRjtl"
      },
      "outputs": [],
      "source": [
        "def learned_dynamics(params):\n",
        "  @jit\n",
        "  def dynamics(q, q_t):\n",
        "#     assert q.shape == (2,)\n",
        "    state = wrap_coords(jnp.concatenate([q, q_t]))\n",
        "    return nn_forward_fn(params, state)\n",
        "  return dynamics\n",
        "\n",
        "def make_loss(args):\n",
        "    if args.loss == 'lnn':\n",
        "        @jax.jit\n",
        "        def gln_loss(params, batch, l2reg):\n",
        "            state, targets = batch#_rk4\n",
        "            leaves, _ = tree_flatten(params)\n",
        "            l2_norm = sum(jnp.vdot(param, param) for param in leaves)\n",
        "            preds = jax.vmap(partial(lagrangian_eom_rk4, learned_dynamics(params), Dt=args.dt, n_updates=args.n_updates))(state)\n",
        "            return jnp.sum(jnp.abs(preds - targets)) + l2reg*l2_norm/args.batch_size\n",
        "\n",
        "    else:\n",
        "        @jax.jit\n",
        "        def gln_loss(params, batch, l2reg):\n",
        "          state, targets = batch#_rk4\n",
        "          leaves, _ = tree_flatten(params)\n",
        "          l2_norm = sum(jnp.vdot(param, param) for param in leaves)\n",
        "          preds = jax.vmap(\n",
        "          partial(baseline_eom,learned_dynamics(params)))(state)\n",
        "          return jnp.sum(jnp.abs(preds - targets)) + l2reg*l2_norm/args.batch_size\n",
        "\n",
        "\n",
        "    return gln_loss"
      ]
    },
    {
      "cell_type": "markdown",
      "metadata": {
        "id": "8ZU4PL0wCbNq"
      },
      "source": [
        "# Train"
      ]
    },
    {
      "cell_type": "code",
      "source": [
        "def train(args, model, data, rng):\n",
        "    global opt_update, get_params, nn_forward_fn\n",
        "    global best_params, best_loss\n",
        "    best_params = None\n",
        "    best_loss = np.inf\n",
        "    best_small_loss = np.inf\n",
        "    (nn_forward_fn, init_params) = model\n",
        "    data = {k: jax.device_put(v) for k,v in data.items()}\n",
        "\n",
        "    loss = make_loss(args)\n",
        "    opt_init, opt_update, get_params = optimizers.adam(\n",
        "    lambda t: jnp.select([t  < args.num_epochs//2,\n",
        "                          t >= args.num_epochs//2],\n",
        "                         [args.lr, args.lr2]))\n",
        "    opt_state = opt_init(init_params)\n",
        "\n",
        "    @jax.jit\n",
        "    def update_derivative(i, opt_state, batch, l2reg):\n",
        "        params = get_params(opt_state)\n",
        "        return opt_update(i, jax.grad(loss, 0)(params, batch, l2reg), opt_state), params\n",
        "\n",
        "    train_losses, test_losses = [], []\n",
        "\n",
        "    for iteration in range(args.num_epochs):\n",
        "        rand_idx = jax.random.randint(rng, (args.batch_size,), 0, len(data['x']))\n",
        "        rng += 1\n",
        "\n",
        "        batch = (data['x'][rand_idx], data['dx'][rand_idx])\n",
        "        opt_state, params = update_derivative(iteration, opt_state, batch, args.l2reg)\n",
        "        small_loss = loss(params, batch, 0.0)\n",
        "\n",
        "        new_small_loss = False\n",
        "        if small_loss < best_small_loss:\n",
        "            best_small_loss = small_loss\n",
        "            new_small_loss = True\n",
        "\n",
        "        if new_small_loss or (iteration % 1000 == 0) or (iteration < 1000 and iteration % 100 == 0):\n",
        "            params = get_params(opt_state)\n",
        "            train_loss = loss(params, (data['x'], data['dx']), 0.0)/len(data['x'])\n",
        "            train_losses.append(train_loss)\n",
        "            test_loss = loss(params, (data['test_x'], data['test_dx']), 0.0)/len(data['test_x'])\n",
        "            test_losses.append(test_loss)\n",
        "\n",
        "            if test_loss < best_loss:\n",
        "                best_loss = test_loss\n",
        "                best_params = params\n",
        "\n",
        "            if jnp.isnan(test_loss).sum():\n",
        "                break\n",
        "\n",
        "            print(f\"Epoch={iteration}, train_loss={train_loss:.6f}, test_loss={test_loss:.6f}\")\n",
        "\n",
        "    params = get_params(opt_state)\n",
        "\n",
        "    model_checkpoint = root_path + \"1R_elastic_vertical/\" + args.loss + \"_elastic_params.pkl\"\n",
        "    write_to({'params': best_params, 'args': args},model_checkpoint)\n",
        "\n",
        "    return params, train_losses, test_losses, best_loss\n",
        "\n",
        "data = new_get_dataset(jax.random.PRNGKey(0), t_span=[0, args.dataset_size], fps=args.fps, samples=args.samples, test_split=0.3)\n",
        "print('Running on', args.__dict__)\n",
        "rng = jax.random.PRNGKey(0)\n",
        "init_random_params, nn_forward_fn = extended_mlp(args)\n",
        "_, init_params = init_random_params(rng+1, (-1, 4))\n",
        "model = (nn_forward_fn, init_params)\n",
        "\n",
        "result = train(args, model, data, rng+3)\n",
        "print(result[3], 'is the loss for', args.__dict__)\n",
        "\n",
        "plot_loss(result[2],result[1])\n",
        "\n",
        "if not jnp.isfinite(result[3]).sum():\n",
        "  a = {'status': 'fail', 'loss': float('inf')}\n",
        "else:\n",
        "  a = {'status': 'ok', 'loss': float(result[3])}\n",
        "print(a)"
      ],
      "metadata": {
        "colab": {
          "base_uri": "https://localhost:8080/",
          "height": 1000
        },
        "id": "W8BY-s8QdT3P",
        "outputId": "005898e5-afcd-4daa-ce4b-654ea5b7278d"
      },
      "execution_count": 10,
      "outputs": [
        {
          "output_type": "stream",
          "name": "stdout",
          "text": [
            "Running on {'num_epochs': 10000, 'loss': 'baseline_nn', 'l2reg': 1e-06, 'act': 'softplus', 'hidden_dim': 500, 'output_dim': 1, 'dt': 0.1, 'layers': 2, 'lr': 0.0005, 'lr2': 5e-05, 'model': 'gln', 'n_updates': 3, 'batch_size': 32, 'fps': 10, 'dataset_size': 100, 'samples': 50}\n",
            "Epoch=0, train_loss=4.393700, test_loss=3.824676\n",
            "Epoch=1, train_loss=4.196333, test_loss=3.702051\n",
            "Epoch=2, train_loss=2.132183, test_loss=1.724216\n",
            "Epoch=3, train_loss=3.240744, test_loss=3.213733\n",
            "Epoch=6, train_loss=2.461542, test_loss=2.324234\n",
            "Epoch=13, train_loss=2.468196, test_loss=2.349978\n",
            "Epoch=41, train_loss=1.541295, test_loss=1.282106\n",
            "Epoch=44, train_loss=1.507766, test_loss=1.249531\n",
            "Epoch=86, train_loss=1.455238, test_loss=1.203977\n",
            "Epoch=100, train_loss=1.529398, test_loss=1.287364\n",
            "Epoch=172, train_loss=1.460252, test_loss=1.208305\n",
            "Epoch=188, train_loss=1.463577, test_loss=1.211171\n",
            "Epoch=200, train_loss=1.451466, test_loss=1.198013\n",
            "Epoch=285, train_loss=1.457826, test_loss=1.204462\n",
            "Epoch=300, train_loss=1.458580, test_loss=1.210128\n",
            "Epoch=400, train_loss=1.457315, test_loss=1.205938\n",
            "Epoch=467, train_loss=1.483368, test_loss=1.235703\n",
            "Epoch=500, train_loss=1.538872, test_loss=1.292837\n",
            "Epoch=600, train_loss=1.448929, test_loss=1.198315\n",
            "Epoch=700, train_loss=1.447313, test_loss=1.198336\n",
            "Epoch=800, train_loss=1.466172, test_loss=1.218316\n",
            "Epoch=900, train_loss=1.471298, test_loss=1.223977\n",
            "Epoch=916, train_loss=1.482753, test_loss=1.232721\n",
            "Epoch=937, train_loss=1.445729, test_loss=1.196691\n",
            "Epoch=1000, train_loss=1.443441, test_loss=1.194620\n",
            "Epoch=1354, train_loss=1.458063, test_loss=1.212251\n",
            "Epoch=2000, train_loss=1.457410, test_loss=1.208784\n",
            "Epoch=2313, train_loss=1.448903, test_loss=1.204596\n",
            "Epoch=2742, train_loss=1.439009, test_loss=1.193195\n",
            "Epoch=3000, train_loss=1.436189, test_loss=1.190517\n",
            "Epoch=4000, train_loss=1.436208, test_loss=1.193914\n",
            "Epoch=4888, train_loss=1.432098, test_loss=1.187731\n",
            "Epoch=5000, train_loss=1.436078, test_loss=1.190126\n",
            "Epoch=6000, train_loss=1.431151, test_loss=1.187912\n",
            "Epoch=6509, train_loss=1.431653, test_loss=1.188600\n",
            "Epoch=7000, train_loss=1.438177, test_loss=1.194806\n",
            "Epoch=8000, train_loss=1.431119, test_loss=1.188116\n",
            "Epoch=8147, train_loss=1.432554, test_loss=1.189687\n",
            "Epoch=9000, train_loss=1.430522, test_loss=1.187587\n",
            "1.1875867 is the loss for {'num_epochs': 10000, 'loss': 'baseline_nn', 'l2reg': 1e-06, 'act': 'softplus', 'hidden_dim': 500, 'output_dim': 1, 'dt': 0.1, 'layers': 2, 'lr': 0.0005, 'lr2': 5e-05, 'model': 'gln', 'n_updates': 3, 'batch_size': 32, 'fps': 10, 'dataset_size': 100, 'samples': 50}\n",
            "{'status': 'ok', 'loss': 1.1875866651535034}\n"
          ]
        },
        {
          "output_type": "display_data",
          "data": {
            "text/plain": [
              "<Figure size 640x480 with 1 Axes>"
            ],
            "image/png": "[encoded data removed]"
          },
          "metadata": {}
        }
      ]
    }
  ],
  "metadata": {
    "colab": {
      "collapsed_sections": [
        "jxyzqMB2Rjtf",
        "-hTiSIu4d1Rc",
        "57OeKsfceAQT"
      ],
      "gpuType": "T4",
      "machine_shape": "hm",
      "provenance": []
    },
    "kernelspec": {
      "display_name": "Python 3",
      "name": "python3"
    },
    "language_info": {
      "codemirror_mode": {
        "name": "ipython",
        "version": 3
      },
      "file_extension": ".py",
      "mimetype": "text/x-python",
      "name": "python",
      "nbconvert_exporter": "python",
      "pygments_lexer": "ipython3",
      "version": "3.10.4"
    },
    "accelerator": "GPU"
  },
  "nbformat": 4,
  "nbformat_minor": 0
}